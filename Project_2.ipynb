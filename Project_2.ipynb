{
  "cells": [
    {
      "cell_type": "markdown",
      "id": "42289889-bd57-434e-9637-d3e354756316",
      "metadata": {
        "id": "42289889-bd57-434e-9637-d3e354756316"
      },
      "source": [
        "<center> <img src = https://raw.githubusercontent.com/AndreyRysistov/DatasetsForPandas/main/hh%20label.jpg alt=\"drawing\" style=\"width:400px;\">"
      ]
    },
    {
      "cell_type": "markdown",
      "id": "829cb75b-f14e-4ba8-9195-7ba929a7d656",
      "metadata": {
        "id": "829cb75b-f14e-4ba8-9195-7ba929a7d656",
        "tags": []
      },
      "source": [
        "# <center> Проект: Анализ вакансий из HeadHunter\n",
        "   "
      ]
    },
    {
      "cell_type": "code",
      "execution_count": 1,
      "id": "dccfde33-2452-43fb-a8a5-5c6ebc02a71d",
      "metadata": {
        "id": "dccfde33-2452-43fb-a8a5-5c6ebc02a71d"
      },
      "outputs": [],
      "source": [
        "import pandas as pd\n",
        "import psycopg2\n",
        "# Библиотека warnings позволяет нам не выводить\n",
        "# предупреждения в выводе сообщения.\n",
        "import warnings\n",
        "warnings.filterwarnings('ignore')"
      ]
    },
    {
      "cell_type": "code",
      "execution_count": 2,
      "id": "755153d3",
      "metadata": {},
      "outputs": [],
      "source": [
        "# параметры поключения\n",
        "from personal import personal"
      ]
    },
    {
      "cell_type": "code",
      "execution_count": 74,
      "id": "G4X_q8KBf7SF",
      "metadata": {
        "id": "G4X_q8KBf7SF"
      },
      "outputs": [],
      "source": [
        "connection = psycopg2.connect(\n",
        "    dbname=personal['DBNAME'],\n",
        "    user=personal['USER'],\n",
        "    host=personal['HOST'],\n",
        "    password=personal['PASSWORD'],\n",
        "    port=personal['PORT']\n",
        ")"
      ]
    },
    {
      "cell_type": "markdown",
      "id": "0dc6476b-7a00-44f1-ac93-6e3baed33a29",
      "metadata": {
        "id": "0dc6476b-7a00-44f1-ac93-6e3baed33a29"
      },
      "source": [
        "# Юнит 3. Предварительный анализ данных"
      ]
    },
    {
      "cell_type": "markdown",
      "id": "889782b6-8d1c-410e-8920-e57f27917c64",
      "metadata": {
        "id": "889782b6-8d1c-410e-8920-e57f27917c64"
      },
      "source": [
        "1. Напишите запрос, который посчитает количество вакансий в нашей базе (вакансии находятся в таблице vacancies). "
      ]
    },
    {
      "cell_type": "code",
      "execution_count": 4,
      "id": "bc39e68e-ed02-4ee2-9235-7258a2f867a8",
      "metadata": {
        "id": "bc39e68e-ed02-4ee2-9235-7258a2f867a8"
      },
      "outputs": [],
      "source": [
        "# текст запроса\n",
        "query = f'''\n",
        "SELECT COUNT(DISTINCT v.id) /*функция подсчёта строк;значения столбца id*/\n",
        "from vacancies v   /*из таблицы vacancies; присваиваем vacancies имя v*/\n",
        "'''"
      ]
    },
    {
      "cell_type": "code",
      "execution_count": 5,
      "id": "7mAwtsk4hEHY",
      "metadata": {
        "id": "7mAwtsk4hEHY"
      },
      "outputs": [
        {
          "name": "stdout",
          "output_type": "stream",
          "text": [
            "Всего 49197 вакансий.\n"
          ]
        }
      ],
      "source": [
        "# результат запроса\n",
        "jobs = pd.read_sql_query(query, connection)\n",
        "print(f'Всего {jobs.iloc[0,0]} вакансий.')\n"
      ]
    },
    {
      "cell_type": "markdown",
      "id": "b583485d-1f9e-494e-ada4-80ffff7c53d6",
      "metadata": {
        "id": "b583485d-1f9e-494e-ada4-80ffff7c53d6"
      },
      "source": [
        "2. Напишите запрос, который посчитает количество работодателей (таблица employers). "
      ]
    },
    {
      "cell_type": "code",
      "execution_count": 6,
      "id": "5408c52c-3407-4a63-b25b-1aafa2322d28",
      "metadata": {
        "id": "5408c52c-3407-4a63-b25b-1aafa2322d28"
      },
      "outputs": [],
      "source": [
        "# текст запроса\n",
        "query = f'''\n",
        "/*функция подсчёта строк;уникальные значения столбца id*/\n",
        "SELECT COUNT(DISTINCT e.id) \n",
        "FROM employers e   /*из таблицы sql.vacancies*/\n",
        "'''"
      ]
    },
    {
      "cell_type": "code",
      "execution_count": 7,
      "id": "jVL4eshKhdqc",
      "metadata": {
        "id": "jVL4eshKhdqc"
      },
      "outputs": [
        {
          "name": "stdout",
          "output_type": "stream",
          "text": [
            "Всего 23501 работодатель.\n"
          ]
        }
      ],
      "source": [
        "# результат запроса\n",
        "employers = pd.read_sql_query(query,connection)\n",
        "print(f'Всего {employers.iloc[0,0]} работодатель.')"
      ]
    },
    {
      "cell_type": "markdown",
      "id": "a2bfff1f-c975-4bf6-84be-2185d79dcb76",
      "metadata": {
        "id": "a2bfff1f-c975-4bf6-84be-2185d79dcb76"
      },
      "source": [
        "3. Посчитате с помощью запроса количество регионов (таблица areas)."
      ]
    },
    {
      "cell_type": "code",
      "execution_count": 8,
      "id": "1m8QJwBYhey6",
      "metadata": {
        "id": "1m8QJwBYhey6"
      },
      "outputs": [],
      "source": [
        "# текст запроса\n",
        "query = f'''\n",
        "/*функция подсчёта строк;уникальные значения столбца id*/\n",
        "SELECT COUNT(DISTINCT a.id) \n",
        "FROM areas a  /*из таблицы areas*/\n",
        "'''"
      ]
    },
    {
      "cell_type": "code",
      "execution_count": 9,
      "id": "EZsn9tlfhe7f",
      "metadata": {
        "id": "EZsn9tlfhe7f"
      },
      "outputs": [
        {
          "name": "stdout",
          "output_type": "stream",
          "text": [
            "Всего 1362 города.\n"
          ]
        }
      ],
      "source": [
        "# результат запроса\n",
        "towns = pd.read_sql_query(query,connection)\n",
        "print(f'Всего {towns.iloc[0,0]} города.')"
      ]
    },
    {
      "cell_type": "markdown",
      "id": "41bb59f3-53cc-4a67-a5bc-bedf573955e4",
      "metadata": {
        "id": "41bb59f3-53cc-4a67-a5bc-bedf573955e4"
      },
      "source": [
        "4. Посчитате с помощью запроса количество сфер деятельности в базе (таблица industries)."
      ]
    },
    {
      "cell_type": "code",
      "execution_count": 10,
      "id": "d286cf4c-707b-4cd2-9190-7ab3587d04a1",
      "metadata": {
        "id": "d286cf4c-707b-4cd2-9190-7ab3587d04a1"
      },
      "outputs": [],
      "source": [
        "# текст запроса\n",
        "query = f'''\n",
        "SELECT \n",
        "    COUNT(DISTINCT i.id) /*счёт; уникальные значения столбца id*/\n",
        "FROM industries i  /*из таблицы industries*/\n",
        "'''"
      ]
    },
    {
      "cell_type": "code",
      "execution_count": 11,
      "id": "JYAaoZ4qhfzW",
      "metadata": {
        "id": "JYAaoZ4qhfzW"
      },
      "outputs": [
        {
          "name": "stdout",
          "output_type": "stream",
          "text": [
            "Всего 294 различных сфер деятельности.\n"
          ]
        }
      ],
      "source": [
        "# результат запроса\n",
        "industries = pd.read_sql_query(query,connection)\n",
        "print(f'Всего {industries.iloc[0,0]} различных сфер деятельности.')"
      ]
    },
    {
      "attachments": {},
      "cell_type": "markdown",
      "id": "9a8a2181-6914-448b-85f1-38f5f18b8a93",
      "metadata": {
        "id": "9a8a2181-6914-448b-85f1-38f5f18b8a93"
      },
      "source": [
        "## Выводы по предварительному анализу:\n"
      ]
    },
    {
      "cell_type": "code",
      "execution_count": 12,
      "id": "be4e9bd3-a4db-4a20-82fb-6b02fc2957e0",
      "metadata": {
        "id": "be4e9bd3-a4db-4a20-82fb-6b02fc2957e0"
      },
      "outputs": [
        {
          "name": "stdout",
          "output_type": "stream",
          "text": [
            "\n",
            "    - Всего рассматриваемых вакансий 49197. Хорошая база данных для проведения\n",
            "    исследования.\n",
            "    - Полный список всех зарегестрированных работодателей составляет 23501.\n",
            "    Достаточный список, чтобы отследить спрос на рабочие места, уровень\n",
            "    зарплаты, графика работы, требований в навыках и многое другое.\n",
            "    - Всего 1362 различных регионов(городов).\n",
            "    - В рассматриваемой выборке 294 различных сферы деятельности.Это нам\n",
            "    даёт возможность оценить множество сфер деятельности.\n",
            "    \n"
          ]
        }
      ],
      "source": [
        "# выводы по предварительному анализу данных\n",
        "print(\n",
        "    '''\n",
        "    - Всего рассматриваемых вакансий {0}. Хорошая база данных для проведения\n",
        "    исследования.\n",
        "    - Полный список всех зарегестрированных работодателей составляет {1}.\n",
        "    Достаточный список, чтобы отследить спрос на рабочие места, уровень\n",
        "    зарплаты, графика работы, требований в навыках и многое другое.\n",
        "    - Всего {2} различных регионов(городов).\n",
        "    - В рассматриваемой выборке {3} различных сферы деятельности.Это нам\n",
        "    даёт возможность оценить множество сфер деятельности.\n",
        "    '''.format(jobs.iloc[0, 0], employers.iloc[0, 0],\n",
        "               towns.iloc[0, 0], industries.iloc[0, 0])\n",
        ")"
      ]
    },
    {
      "cell_type": "markdown",
      "id": "8d62a9f3-f64e-4fe7-bdac-c4dffa16155e",
      "metadata": {
        "id": "8d62a9f3-f64e-4fe7-bdac-c4dffa16155e"
      },
      "source": [
        "# Юнит 4. Детальный анализ вакансий"
      ]
    },
    {
      "cell_type": "markdown",
      "id": "93053d3d-b284-481a-9cf7-012d7014c0e0",
      "metadata": {
        "id": "93053d3d-b284-481a-9cf7-012d7014c0e0"
      },
      "source": [
        "1. Напишите запрос, который позволит узнать, сколько (cnt) вакансий в каждом регионе (area).\n",
        "Отсортируйте по количеству вакансий в порядке убывания."
      ]
    },
    {
      "cell_type": "code",
      "execution_count": 13,
      "id": "3f069da6-fdc9-4ae7-b514-fafe2675efd3",
      "metadata": {
        "id": "3f069da6-fdc9-4ae7-b514-fafe2675efd3"
      },
      "outputs": [],
      "source": [
        "# текст запроса\n",
        "query = f'''\n",
        "SELECT\n",
        "    a.name area,  /*столбец name таблицы area*/\n",
        "    COUNT(v.area_id) cnt  /*счёт;значения столбца area_id*/\n",
        "FROM vacancies v  /*из таблицы industries*/\n",
        "    JOIN areas a ON a.id = v.area_id  /*оператор соединения таблиц;\n",
        "таблица matches; условие: id таблицы areas равен area_id таблицы vacancies*/\n",
        "GROUP BY a.name  /*групируем таблицу по признаку a.name*/\n",
        "ORDER BY 2 DESC  /*групирум по признаку */\n",
        "'''"
      ]
    },
    {
      "cell_type": "code",
      "execution_count": 14,
      "id": "P7QL86hrjhRJ",
      "metadata": {
        "id": "P7QL86hrjhRJ"
      },
      "outputs": [
        {
          "data": {
            "text/html": [
              "<div>\n",
              "<style scoped>\n",
              "    .dataframe tbody tr th:only-of-type {\n",
              "        vertical-align: middle;\n",
              "    }\n",
              "\n",
              "    .dataframe tbody tr th {\n",
              "        vertical-align: top;\n",
              "    }\n",
              "\n",
              "    .dataframe thead th {\n",
              "        text-align: right;\n",
              "    }\n",
              "</style>\n",
              "<table border=\"1\" class=\"dataframe\">\n",
              "  <thead>\n",
              "    <tr style=\"text-align: right;\">\n",
              "      <th></th>\n",
              "      <th>area</th>\n",
              "      <th>cnt</th>\n",
              "    </tr>\n",
              "  </thead>\n",
              "  <tbody>\n",
              "    <tr>\n",
              "      <th>0</th>\n",
              "      <td>Москва</td>\n",
              "      <td>5333</td>\n",
              "    </tr>\n",
              "    <tr>\n",
              "      <th>1</th>\n",
              "      <td>Санкт-Петербург</td>\n",
              "      <td>2851</td>\n",
              "    </tr>\n",
              "    <tr>\n",
              "      <th>2</th>\n",
              "      <td>Минск</td>\n",
              "      <td>2112</td>\n",
              "    </tr>\n",
              "    <tr>\n",
              "      <th>3</th>\n",
              "      <td>Новосибирск</td>\n",
              "      <td>2006</td>\n",
              "    </tr>\n",
              "    <tr>\n",
              "      <th>4</th>\n",
              "      <td>Алматы</td>\n",
              "      <td>1892</td>\n",
              "    </tr>\n",
              "    <tr>\n",
              "      <th>...</th>\n",
              "      <td>...</td>\n",
              "      <td>...</td>\n",
              "    </tr>\n",
              "    <tr>\n",
              "      <th>764</th>\n",
              "      <td>Тарко-Сале</td>\n",
              "      <td>1</td>\n",
              "    </tr>\n",
              "    <tr>\n",
              "      <th>765</th>\n",
              "      <td>Новоаннинский</td>\n",
              "      <td>1</td>\n",
              "    </tr>\n",
              "    <tr>\n",
              "      <th>766</th>\n",
              "      <td>Бирск</td>\n",
              "      <td>1</td>\n",
              "    </tr>\n",
              "    <tr>\n",
              "      <th>767</th>\n",
              "      <td>Сасово</td>\n",
              "      <td>1</td>\n",
              "    </tr>\n",
              "    <tr>\n",
              "      <th>768</th>\n",
              "      <td>Анна</td>\n",
              "      <td>1</td>\n",
              "    </tr>\n",
              "  </tbody>\n",
              "</table>\n",
              "<p>769 rows × 2 columns</p>\n",
              "</div>"
            ],
            "text/plain": [
              "                area   cnt\n",
              "0             Москва  5333\n",
              "1    Санкт-Петербург  2851\n",
              "2              Минск  2112\n",
              "3        Новосибирск  2006\n",
              "4             Алматы  1892\n",
              "..               ...   ...\n",
              "764       Тарко-Сале     1\n",
              "765    Новоаннинский     1\n",
              "766            Бирск     1\n",
              "767           Сасово     1\n",
              "768             Анна     1\n",
              "\n",
              "[769 rows x 2 columns]"
            ]
          },
          "execution_count": 14,
          "metadata": {},
          "output_type": "execute_result"
        }
      ],
      "source": [
        "# результат запроса\n",
        "job = pd.read_sql_query(query,connection)\n",
        "job"
      ]
    },
    {
      "cell_type": "markdown",
      "id": "4266f0b6-1646-492a-88b4-2f6a46502135",
      "metadata": {
        "id": "4266f0b6-1646-492a-88b4-2f6a46502135"
      },
      "source": [
        "2. Напишите запрос, чтобы определить у какого количества вакансий заполнено хотя бы одно из двух полей с зарплатой."
      ]
    },
    {
      "cell_type": "code",
      "execution_count": 15,
      "id": "0c44b350-72eb-4d65-8b54-a1fc449ba9fd",
      "metadata": {
        "id": "0c44b350-72eb-4d65-8b54-a1fc449ba9fd"
      },
      "outputs": [],
      "source": [
        "# текст запроса\n",
        "query = f'''\n",
        "SELECT \n",
        "    COUNT(id)  /*счёт;значения столбца id*/\n",
        "FROM \n",
        "    vacancies v  /*из таблицы vacancies*/\n",
        "WHERE \n",
        "    /*фильтр salary_from не пустое или salary_to не пустое значение*/\n",
        "    v.salary_from IS NOT NULL OR v.salary_to IS NOT NULL\n",
        "'''"
      ]
    },
    {
      "cell_type": "code",
      "execution_count": 16,
      "id": "rhvwaMDkoWTi",
      "metadata": {
        "id": "rhvwaMDkoWTi"
      },
      "outputs": [
        {
          "name": "stdout",
          "output_type": "stream",
          "text": [
            "\n",
            "      В списке вакансий есть два уровня зарплат нижний \"от\" и верхний \"до\".\n",
            "      У нас 24073 вакансии, в которых есть запись хотя бы одного из двух полей.\n",
            "      \n"
          ]
        }
      ],
      "source": [
        "# результат запроса\n",
        "df = pd.read_sql_query(query, connection)\n",
        "salary_point = df.iloc[0, 0]\n",
        "print('''\n",
        "      В списке вакансий есть два уровня зарплат нижний \"от\" и верхний \"до\".\n",
        "      У нас {0} вакансии, в которых есть запись хотя бы одного из двух полей.\n",
        "      '''.format(salary_point)\n",
        "      )"
      ]
    },
    {
      "cell_type": "markdown",
      "id": "635c4d5d-f323-4c66-b428-50a088120aa0",
      "metadata": {
        "id": "635c4d5d-f323-4c66-b428-50a088120aa0"
      },
      "source": [
        "3. Найдите средние значения для нижней и верхней границы зарплатной вилки. Округлите значения до целого."
      ]
    },
    {
      "cell_type": "code",
      "execution_count": 17,
      "id": "603cdbe4-0ec3-4106-8eaf-c73fcdd29165",
      "metadata": {
        "id": "603cdbe4-0ec3-4106-8eaf-c73fcdd29165"
      },
      "outputs": [],
      "source": [
        "# текст запроса\n",
        "query = f'''\n",
        "SELECT \n",
        "    v.salary_from,  /*столбец name таблицы vacancies*/\n",
        "    v.salary_to     /*столбец name таблицы vacancies*/\n",
        "FROM \n",
        "    vacancies v     /*из таблицы vacancies*/\n",
        "WHERE \n",
        "    /*фильтр salary_from не пустое или salary_to не пустое значение*/\n",
        "    v.salary_from IS NOT NULL OR v.salary_to IS NOT NULL\n",
        "'''"
      ]
    },
    {
      "cell_type": "code",
      "execution_count": 18,
      "id": "pswpAb66ovZZ",
      "metadata": {
        "id": "pswpAb66ovZZ"
      },
      "outputs": [
        {
          "name": "stdout",
          "output_type": "stream",
          "text": [
            "Cредние значения для нижней границы зарплатной вилки 71065.\n",
            "Cредние значения для верхней границы зарплатной вилки 110537.\n"
          ]
        }
      ],
      "source": [
        "# результат запроса\n",
        "df = pd.read_sql_query(query, connection)\n",
        "salary_from = round(df['salary_from'].mean())\n",
        "salary_to = round(df['salary_to'].mean())\n",
        "\n",
        "print(f'Cредние значения для нижней границы зарплатной вилки {salary_from}.')\n",
        "print(f'Cредние значения для верхней границы зарплатной вилки {salary_to}.')\n"
      ]
    },
    {
      "cell_type": "markdown",
      "id": "f3fdaec9-5fd3-4260-9cf5-1d7406b628a5",
      "metadata": {
        "id": "f3fdaec9-5fd3-4260-9cf5-1d7406b628a5"
      },
      "source": [
        "4. Напишите запрос, который выведет количество вакансий для каждого сочетания типа рабочего графика (schedule) и типа трудоустройства (employment), используемого в вакансиях. Результат отсортируйте по убыванию количества.\n"
      ]
    },
    {
      "cell_type": "code",
      "execution_count": 19,
      "id": "1ea710ec-871b-431e-9462-c7d0fd87011b",
      "metadata": {
        "id": "1ea710ec-871b-431e-9462-c7d0fd87011b"
      },
      "outputs": [],
      "source": [
        "# текст запроса\n",
        "query = f'''\n",
        "SELECT \n",
        "    v.schedule,  /*столбец schedule таблицы vacancies*/\n",
        "    lower(v.employment) employment,  /*lower() имя в нижний регистр */\n",
        "    COUNT(v.id) quantity  /*счёт;значения столбца id*/\n",
        "FROM \n",
        "    vacancies v  /*из таблицы vacancies*/\n",
        "GROUP BY 1,2     /*группируе по 1-му далее по 2-му столбцу*/\n",
        "ORDER BY 3 DESC  /*порядок по 3 столбцу; нисходящий*/\n",
        "'''\n"
      ]
    },
    {
      "cell_type": "code",
      "execution_count": 20,
      "id": "lGUVqavdo4JQ",
      "metadata": {
        "id": "lGUVqavdo4JQ"
      },
      "outputs": [
        {
          "data": {
            "text/html": [
              "<div>\n",
              "<style scoped>\n",
              "    .dataframe tbody tr th:only-of-type {\n",
              "        vertical-align: middle;\n",
              "    }\n",
              "\n",
              "    .dataframe tbody tr th {\n",
              "        vertical-align: top;\n",
              "    }\n",
              "\n",
              "    .dataframe thead th {\n",
              "        text-align: right;\n",
              "    }\n",
              "</style>\n",
              "<table border=\"1\" class=\"dataframe\">\n",
              "  <thead>\n",
              "    <tr style=\"text-align: right;\">\n",
              "      <th></th>\n",
              "      <th>schedule</th>\n",
              "      <th>employment</th>\n",
              "      <th>quantity</th>\n",
              "    </tr>\n",
              "  </thead>\n",
              "  <tbody>\n",
              "    <tr>\n",
              "      <th>0</th>\n",
              "      <td>Полный день</td>\n",
              "      <td>полная занятость</td>\n",
              "      <td>35367</td>\n",
              "    </tr>\n",
              "    <tr>\n",
              "      <th>1</th>\n",
              "      <td>Удаленная работа</td>\n",
              "      <td>полная занятость</td>\n",
              "      <td>7802</td>\n",
              "    </tr>\n",
              "    <tr>\n",
              "      <th>2</th>\n",
              "      <td>Гибкий график</td>\n",
              "      <td>полная занятость</td>\n",
              "      <td>1593</td>\n",
              "    </tr>\n",
              "    <tr>\n",
              "      <th>3</th>\n",
              "      <td>Удаленная работа</td>\n",
              "      <td>частичная занятость</td>\n",
              "      <td>1312</td>\n",
              "    </tr>\n",
              "    <tr>\n",
              "      <th>4</th>\n",
              "      <td>Сменный график</td>\n",
              "      <td>полная занятость</td>\n",
              "      <td>940</td>\n",
              "    </tr>\n",
              "    <tr>\n",
              "      <th>5</th>\n",
              "      <td>Полный день</td>\n",
              "      <td>стажировка</td>\n",
              "      <td>569</td>\n",
              "    </tr>\n",
              "    <tr>\n",
              "      <th>6</th>\n",
              "      <td>Вахтовый метод</td>\n",
              "      <td>полная занятость</td>\n",
              "      <td>367</td>\n",
              "    </tr>\n",
              "    <tr>\n",
              "      <th>7</th>\n",
              "      <td>Полный день</td>\n",
              "      <td>частичная занятость</td>\n",
              "      <td>347</td>\n",
              "    </tr>\n",
              "    <tr>\n",
              "      <th>8</th>\n",
              "      <td>Гибкий график</td>\n",
              "      <td>частичная занятость</td>\n",
              "      <td>312</td>\n",
              "    </tr>\n",
              "    <tr>\n",
              "      <th>9</th>\n",
              "      <td>Полный день</td>\n",
              "      <td>проектная работа</td>\n",
              "      <td>141</td>\n",
              "    </tr>\n",
              "    <tr>\n",
              "      <th>10</th>\n",
              "      <td>Удаленная работа</td>\n",
              "      <td>проектная работа</td>\n",
              "      <td>133</td>\n",
              "    </tr>\n",
              "    <tr>\n",
              "      <th>11</th>\n",
              "      <td>Гибкий график</td>\n",
              "      <td>стажировка</td>\n",
              "      <td>116</td>\n",
              "    </tr>\n",
              "    <tr>\n",
              "      <th>12</th>\n",
              "      <td>Сменный график</td>\n",
              "      <td>частичная занятость</td>\n",
              "      <td>101</td>\n",
              "    </tr>\n",
              "    <tr>\n",
              "      <th>13</th>\n",
              "      <td>Удаленная работа</td>\n",
              "      <td>стажировка</td>\n",
              "      <td>64</td>\n",
              "    </tr>\n",
              "    <tr>\n",
              "      <th>14</th>\n",
              "      <td>Гибкий график</td>\n",
              "      <td>проектная работа</td>\n",
              "      <td>18</td>\n",
              "    </tr>\n",
              "    <tr>\n",
              "      <th>15</th>\n",
              "      <td>Сменный график</td>\n",
              "      <td>стажировка</td>\n",
              "      <td>12</td>\n",
              "    </tr>\n",
              "    <tr>\n",
              "      <th>16</th>\n",
              "      <td>Вахтовый метод</td>\n",
              "      <td>проектная работа</td>\n",
              "      <td>2</td>\n",
              "    </tr>\n",
              "    <tr>\n",
              "      <th>17</th>\n",
              "      <td>Сменный график</td>\n",
              "      <td>проектная работа</td>\n",
              "      <td>1</td>\n",
              "    </tr>\n",
              "  </tbody>\n",
              "</table>\n",
              "</div>"
            ],
            "text/plain": [
              "            schedule           employment  quantity\n",
              "0        Полный день     полная занятость     35367\n",
              "1   Удаленная работа     полная занятость      7802\n",
              "2      Гибкий график     полная занятость      1593\n",
              "3   Удаленная работа  частичная занятость      1312\n",
              "4     Сменный график     полная занятость       940\n",
              "5        Полный день           стажировка       569\n",
              "6     Вахтовый метод     полная занятость       367\n",
              "7        Полный день  частичная занятость       347\n",
              "8      Гибкий график  частичная занятость       312\n",
              "9        Полный день     проектная работа       141\n",
              "10  Удаленная работа     проектная работа       133\n",
              "11     Гибкий график           стажировка       116\n",
              "12    Сменный график  частичная занятость       101\n",
              "13  Удаленная работа           стажировка        64\n",
              "14     Гибкий график     проектная работа        18\n",
              "15    Сменный график           стажировка        12\n",
              "16    Вахтовый метод     проектная работа         2\n",
              "17    Сменный график     проектная работа         1"
            ]
          },
          "execution_count": 20,
          "metadata": {},
          "output_type": "execute_result"
        }
      ],
      "source": [
        "# результат запроса\n",
        "busy = pd.read_sql_query(query, connection)\n",
        "busy\n"
      ]
    },
    {
      "cell_type": "markdown",
      "id": "0136ffee-0ead-4a6b-b608-61d1c753a438",
      "metadata": {
        "id": "0136ffee-0ead-4a6b-b608-61d1c753a438"
      },
      "source": [
        "5. Напишите запрос, выводящий значения поля Требуемый опыт работы (experience) в порядке возрастания количества вакансий, в которых указан данный вариант опыта. "
      ]
    },
    {
      "cell_type": "code",
      "execution_count": 21,
      "id": "5b3a8e79-f7ab-4008-b767-12aea3a205ea",
      "metadata": {
        "id": "5b3a8e79-f7ab-4008-b767-12aea3a205ea"
      },
      "outputs": [],
      "source": [
        "# текст запроса\n",
        "query = f'''\n",
        "SELECT \n",
        "    v.experience,  /*столбец experience таблицы vacancies*/\n",
        "    COUNT(id) n_vacancies  /*счёт;значения столбца id*/\n",
        "FROM \n",
        "    vacancies v  /*из таблицы vacancies*/\n",
        "GROUP BY 1  /*группируем по 1-му столбцу*/\n",
        "ORDER BY 2 ASC    /*порядок по 2-му столбцу; восходящий*/\n",
        "'''\n"
      ]
    },
    {
      "cell_type": "code",
      "execution_count": 22,
      "id": "3Is64Y-hpDpq",
      "metadata": {
        "id": "3Is64Y-hpDpq"
      },
      "outputs": [
        {
          "data": {
            "text/html": [
              "<div>\n",
              "<style scoped>\n",
              "    .dataframe tbody tr th:only-of-type {\n",
              "        vertical-align: middle;\n",
              "    }\n",
              "\n",
              "    .dataframe tbody tr th {\n",
              "        vertical-align: top;\n",
              "    }\n",
              "\n",
              "    .dataframe thead th {\n",
              "        text-align: right;\n",
              "    }\n",
              "</style>\n",
              "<table border=\"1\" class=\"dataframe\">\n",
              "  <thead>\n",
              "    <tr style=\"text-align: right;\">\n",
              "      <th></th>\n",
              "      <th>experience</th>\n",
              "      <th>n_vacancies</th>\n",
              "    </tr>\n",
              "  </thead>\n",
              "  <tbody>\n",
              "    <tr>\n",
              "      <th>0</th>\n",
              "      <td>Более 6 лет</td>\n",
              "      <td>1337</td>\n",
              "    </tr>\n",
              "    <tr>\n",
              "      <th>1</th>\n",
              "      <td>Нет опыта</td>\n",
              "      <td>7197</td>\n",
              "    </tr>\n",
              "    <tr>\n",
              "      <th>2</th>\n",
              "      <td>От 3 до 6 лет</td>\n",
              "      <td>14511</td>\n",
              "    </tr>\n",
              "    <tr>\n",
              "      <th>3</th>\n",
              "      <td>От 1 года до 3 лет</td>\n",
              "      <td>26152</td>\n",
              "    </tr>\n",
              "  </tbody>\n",
              "</table>\n",
              "</div>"
            ],
            "text/plain": [
              "           experience  n_vacancies\n",
              "0         Более 6 лет         1337\n",
              "1           Нет опыта         7197\n",
              "2       От 3 до 6 лет        14511\n",
              "3  От 1 года до 3 лет        26152"
            ]
          },
          "execution_count": 22,
          "metadata": {},
          "output_type": "execute_result"
        }
      ],
      "source": [
        "# результат запроса\n",
        "df_experience = pd.read_sql_query(query, connection)\n",
        "df_experience\n"
      ]
    },
    {
      "attachments": {},
      "cell_type": "markdown",
      "id": "oq2b7n1QpIka",
      "metadata": {
        "id": "oq2b7n1QpIka"
      },
      "source": [
        "## Вывод по детальному анализу вакансий:"
      ]
    },
    {
      "cell_type": "code",
      "execution_count": 23,
      "id": "e91f87ed-e25c-4f96-9f92-b642e8c0b4fa",
      "metadata": {
        "id": "e91f87ed-e25c-4f96-9f92-b642e8c0b4fa"
      },
      "outputs": [
        {
          "name": "stdout",
          "output_type": "stream",
          "text": [
            "\n",
            "    1) Определили количество вакансий городам. В пятёрку лидеров со\n",
            "    значениями входят:\n",
            "    Москва: 5333, Санкт-Петербург: 2851, Минск: 2112, Новосибирск: 2006, \n",
            "    Алматы: 1892.\n",
            "\n",
            "    2) У 24073 вакансий указан уровень зарплаты, т.е около 49% из общего \n",
            "    числа. Это зарплата, которую работадатель способен платить оставаясь,\n",
            "    конкуретно способным.\n",
            "    \n",
            "    3) Средний уровень зарплаты по всем вакансиям находится в диапазоне\n",
            "    от 71065 до 110537. Этот показатель помогает понять, какой уровень зарплаты\n",
            "    в среднем и на то как сильно она отличается от профессиональных умений\n",
            "    сотрудника и его опыта работы.\n",
            "    \n",
            "    4) Мы определили наибольшую востребовнность по признаку \"рабочего графика\"\n",
            "    и \"типу занятости\". На первой позиции стоит \"Полный день\" и \"полная занятость\"\n",
            "    с числом вакансий 35367, а на второй позиции \"Удаленная работа\" и \n",
            "    \"полная занятость\" с числом вакансий 7802. Можно предположить, что\n",
            "    востребованость в удалённой работе растёт. С ростом технологий,\n",
            "    в будущем этот показатель может только вырасти.\n",
            "    \n",
            "    5) Наиболее востребованный опыт работ у работодателей От 1 года до 3 лет.\n",
            "    Это говорит о том что работодатель заинтересован взят сотрудника уже с\n",
            "    опытом работы, чем без опыта, т.к. смогут больше заработать потратив\n",
            "    меньше времени на воспитании, нового кадра. Или напротив нужен опытный\n",
            "    сотрудник, который самостоятельно выполнит задачу и внесёт что-то новое.\n",
            "\n"
          ]
        }
      ],
      "source": [
        "# выводы по детальному анализу вакансий\n",
        "print('''\n",
        "    1) Определили количество вакансий городам. В пятёрку лидеров со\n",
        "    значениями входят:\n",
        "    {0}: {1}, {2}: {3}, {4}: {5}, {6}: {7}, \n",
        "    {8}: {9}.\n",
        "\n",
        "    2) У {10} вакансий указан уровень зарплаты, т.е около {11}% из общего \n",
        "    числа. Это зарплата, которую работадатель способен платить оставаясь,\n",
        "    конкуретно способным.\n",
        "    \n",
        "    3) Средний уровень зарплаты по всем вакансиям находится в диапазоне\n",
        "    от {12} до {13}. Этот показатель помогает понять, какой уровень зарплаты\n",
        "    в среднем и на то как сильно она отличается от профессиональных умений\n",
        "    сотрудника и его опыта работы.\n",
        "    \n",
        "    4) Мы определили наибольшую востребовнность по признаку \"рабочего графика\"\n",
        "    и \"типу занятости\". На первой позиции стоит \"{14}\" и \"{15}\"\n",
        "    с числом вакансий {16}, а на второй позиции \"{17}\" и \n",
        "    \"{18}\" с числом вакансий {19}. Можно предположить, что\n",
        "    востребованость в удалённой работе растёт. С ростом технологий,\n",
        "    в будущем этот показатель может только вырасти.\n",
        "    \n",
        "    5) Наиболее востребованный опыт работ у работодателей {20}.\n",
        "    Это говорит о том что работодатель заинтересован взят сотрудника уже с\n",
        "    опытом работы, чем без опыта, т.к. смогут больше заработать потратив\n",
        "    меньше времени на воспитании, нового кадра. Или напротив нужен опытный\n",
        "    сотрудник, который самостоятельно выполнит задачу и внесёт что-то новое.\n",
        "'''.format(job.iloc[0][0], job.iloc[0][1], job.iloc[1][0], job.iloc[1][1],\n",
        "           job.iloc[2][0], job.iloc[2][1], job.iloc[3][0], job.iloc[3][1],\n",
        "           job.iloc[4][0], job.iloc[4][1], salary_point,\n",
        "           round(salary_point/jobs.iloc[0][0]*100), salary_from, salary_to,\n",
        "           busy.iloc[0][0], busy.iloc[0][1], busy.iloc[0][2], busy.iloc[1][0],\n",
        "           busy.iloc[1][1], busy.iloc[1][2], df_experience.iloc[3][0])\n",
        "      )\n"
      ]
    },
    {
      "cell_type": "markdown",
      "id": "7ea20ab6-04a7-40a0-adec-443a0e5a42c3",
      "metadata": {
        "id": "7ea20ab6-04a7-40a0-adec-443a0e5a42c3"
      },
      "source": [
        "# Юнит 5. Анализ работодателей"
      ]
    },
    {
      "cell_type": "markdown",
      "id": "968aed80-74ef-4ffb-b5bf-c65b84e9caea",
      "metadata": {
        "id": "968aed80-74ef-4ffb-b5bf-c65b84e9caea"
      },
      "source": [
        "1. Напишите запрос, который позволит узнать, какие работодатели находятся на первом и пятом месте по количеству вакансий."
      ]
    },
    {
      "cell_type": "code",
      "execution_count": 75,
      "id": "f2d62796-d400-4ec1-a675-88112739a50e",
      "metadata": {
        "id": "f2d62796-d400-4ec1-a675-88112739a50e"
      },
      "outputs": [],
      "source": [
        "# текст запроса\n",
        "query = f'''\n",
        "with x AS  /*строим таблицу x*/\n",
        "((SELECT \n",
        "    e.name,  /*столбец name таблицы employers*/\n",
        "    COUNT(v.id)  /*счёт;значения столбца id*/\n",
        "FROM vacancies v  /*из таблицы vacancies*/\n",
        "    /*JOIN внутренне объединение по employer_id таблицы vacancies и\n",
        "    id таблицы employers */\n",
        "    JOIN employers e ON v.employer_id = e.id\n",
        "GROUP BY e.name  /*группируем таблицу по name*/\n",
        "ORDER BY 2 DESC  /*порядок по 2-му столбцу; нисходящий*/\n",
        "LIMIT 1)  /*выводим только одно значение*/\n",
        "            \n",
        "UNION all  /*оператор присоединения всех значений*/\n",
        "            \n",
        "(SELECT \n",
        "    e.name,      \n",
        "    COUNT(v.id) \n",
        "FROM vacancies v\n",
        "JOIN employers e ON v.employer_id = e.id\n",
        "GROUP BY e.name \n",
        "ORDER BY 2 DESC \n",
        "OFFSET 4   /*функция OFFSET исключает первые четыре строк*/\n",
        "LIMIT 1))  /*выводим только одно значение*/\n",
        "\n",
        "\n",
        "SELECT x.name /*столбец name таблицы x*/\n",
        "FROM x  /*из таблицы x*/\n",
        "'''\n"
      ]
    },
    {
      "cell_type": "code",
      "execution_count": 25,
      "id": "64tOMkAxqkQk",
      "metadata": {
        "id": "64tOMkAxqkQk"
      },
      "outputs": [
        {
          "name": "stdout",
          "output_type": "stream",
          "text": [
            "\n",
            "    Работодатель \"Яндекс\" находятся на первом и \"Газпром нефть\" на пятом месте по\n",
            "    количеству вакансий.\n"
          ]
        }
      ],
      "source": [
        "# результат запроса\n",
        "df = pd.read_sql_query(query, connection)\n",
        "employer = list(df['name'])\n",
        "print('''\n",
        "    Работодатель \"{0}\" находятся на первом и \"{1}\" на пятом месте по\n",
        "    количеству вакансий.'''.format(employer[0], employer[1]))\n"
      ]
    },
    {
      "cell_type": "markdown",
      "id": "68377cfc-b378-43dc-ab7d-1195abf2c515",
      "metadata": {
        "id": "68377cfc-b378-43dc-ab7d-1195abf2c515"
      },
      "source": [
        "2. Напишите запрос, который для каждого региона выведет количество работодателей и вакансий в нём.\n",
        "Среди регионов, в которых нет вакансий, найдите тот, в котором наибольшее количество работодателей.\n"
      ]
    },
    {
      "cell_type": "code",
      "execution_count": 26,
      "id": "dd7df27a-e3e8-412e-a21a-5d389b71e891",
      "metadata": {
        "id": "dd7df27a-e3e8-412e-a21a-5d389b71e891"
      },
      "outputs": [],
      "source": [
        "# текст запроса\n",
        "query = f'''\n",
        "SELECT \n",
        "    a.name town,  /*столбец name таблицы town*/\n",
        "    COUNT(v.employer_id) qty_employers,  /*счёт;значения столбца employer_id*/\n",
        "    COUNT(v.id) qty_vacancies,  /*счёт;значения столбца id*/\n",
        "    COUNT(e.name) qty_employers_rigeon  /*счёт;значения столбца id*/\n",
        "FROM areas a  /*из таблицы areas*/\n",
        "    /*LEFT JOIN левое объединение по area_id таблицы vacancies и\n",
        "    id таблицы employers */\n",
        "    LEFT JOIN vacancies v ON v.area_id = a.id  \n",
        "    JOIN employers e ON a.id = e.area \n",
        "    \n",
        "WHERE v.id IS NULL  /*фильтр, где id пустое значение*/\n",
        "GROUP BY a.name     /*группируем по имени*/\n",
        "ORDER BY 4 DESC     /*порядок по 4-му столбцу; нисходящий*/\n",
        "LIMIT 1             /*выводим только одно значение*/\n",
        "'''\n"
      ]
    },
    {
      "cell_type": "code",
      "execution_count": 27,
      "id": "x1ikWbydrbf6",
      "metadata": {
        "id": "x1ikWbydrbf6"
      },
      "outputs": [
        {
          "name": "stdout",
          "output_type": "stream",
          "text": [
            "\n",
            "    В Россия больше всего работодателей, но никто не указывает её,\n",
            "    в каччестве места работы.\n",
            "    \n"
          ]
        }
      ],
      "source": [
        "# результат запроса\n",
        "df = pd.read_sql_query(query, connection)\n",
        "employer_from = df.iloc[0, 0]\n",
        "print(f'''\n",
        "    В {employer_from} больше всего работодателей, но никто не указывает её,\n",
        "    в каччестве места работы.\n",
        "    ''')\n"
      ]
    },
    {
      "attachments": {},
      "cell_type": "markdown",
      "id": "f2fe0acb-ab1a-4e15-9326-2560e22d73c1",
      "metadata": {
        "id": "f2fe0acb-ab1a-4e15-9326-2560e22d73c1"
      },
      "source": [
        "3. Для каждого работодателя посчитайте количество регионов, в которых он публикует свои вакансии. Отсортируйте результат по убыванию количества. Выведем первые 15 наиболее крупные компании. "
      ]
    },
    {
      "cell_type": "code",
      "execution_count": 28,
      "id": "6271f8ad-bd2e-4196-ae4a-5b39c4c1010e",
      "metadata": {
        "id": "6271f8ad-bd2e-4196-ae4a-5b39c4c1010e"
      },
      "outputs": [],
      "source": [
        "# текст запроса\n",
        "query = f'''\n",
        "SELECT \n",
        "    e.name,  /*столбец name таблицы employers*/\n",
        "    COUNT(DISTINCT v.area_id)  /*счёт;уникальные значения столбца area_id*/\n",
        "FROM vacancies v /*из таблицы vacancies*/\n",
        "    /*JOIN внутреннее объединение по id таблицы employers и\n",
        "    employer_id таблицы vacancies */\n",
        "    JOIN employers e ON e.id = v.employer_id\n",
        "GROUP BY e.id    /*группируем по id*/\n",
        "ORDER BY 2 DESC  /*порядок по 2-му столбцу; нисходящий*/\n",
        "LIMIT 15         /*выводим только 15 значений*/\n",
        "'''\n"
      ]
    },
    {
      "cell_type": "code",
      "execution_count": 29,
      "id": "1EIvX3HasH4F",
      "metadata": {
        "id": "1EIvX3HasH4F"
      },
      "outputs": [
        {
          "data": {
            "text/html": [
              "<div>\n",
              "<style scoped>\n",
              "    .dataframe tbody tr th:only-of-type {\n",
              "        vertical-align: middle;\n",
              "    }\n",
              "\n",
              "    .dataframe tbody tr th {\n",
              "        vertical-align: top;\n",
              "    }\n",
              "\n",
              "    .dataframe thead th {\n",
              "        text-align: right;\n",
              "    }\n",
              "</style>\n",
              "<table border=\"1\" class=\"dataframe\">\n",
              "  <thead>\n",
              "    <tr style=\"text-align: right;\">\n",
              "      <th></th>\n",
              "      <th>name</th>\n",
              "      <th>count</th>\n",
              "    </tr>\n",
              "  </thead>\n",
              "  <tbody>\n",
              "    <tr>\n",
              "      <th>0</th>\n",
              "      <td>Яндекс</td>\n",
              "      <td>181</td>\n",
              "    </tr>\n",
              "    <tr>\n",
              "      <th>1</th>\n",
              "      <td>Ростелеком</td>\n",
              "      <td>152</td>\n",
              "    </tr>\n",
              "    <tr>\n",
              "      <th>2</th>\n",
              "      <td>Спецремонт</td>\n",
              "      <td>116</td>\n",
              "    </tr>\n",
              "    <tr>\n",
              "      <th>3</th>\n",
              "      <td>Поляков Денис Иванович</td>\n",
              "      <td>88</td>\n",
              "    </tr>\n",
              "    <tr>\n",
              "      <th>4</th>\n",
              "      <td>ООО ЕФИН</td>\n",
              "      <td>71</td>\n",
              "    </tr>\n",
              "    <tr>\n",
              "      <th>5</th>\n",
              "      <td>Совкомбанк</td>\n",
              "      <td>63</td>\n",
              "    </tr>\n",
              "    <tr>\n",
              "      <th>6</th>\n",
              "      <td>МТС</td>\n",
              "      <td>55</td>\n",
              "    </tr>\n",
              "    <tr>\n",
              "      <th>7</th>\n",
              "      <td>ЭФКО, Управляющая компания</td>\n",
              "      <td>49</td>\n",
              "    </tr>\n",
              "    <tr>\n",
              "      <th>8</th>\n",
              "      <td>Почта России</td>\n",
              "      <td>48</td>\n",
              "    </tr>\n",
              "    <tr>\n",
              "      <th>9</th>\n",
              "      <td>КРОН</td>\n",
              "      <td>48</td>\n",
              "    </tr>\n",
              "    <tr>\n",
              "      <th>10</th>\n",
              "      <td>MCORE</td>\n",
              "      <td>46</td>\n",
              "    </tr>\n",
              "    <tr>\n",
              "      <th>11</th>\n",
              "      <td>ИК СИБИНТЕК</td>\n",
              "      <td>46</td>\n",
              "    </tr>\n",
              "    <tr>\n",
              "      <th>12</th>\n",
              "      <td>Сбербанк-Сервис</td>\n",
              "      <td>45</td>\n",
              "    </tr>\n",
              "    <tr>\n",
              "      <th>13</th>\n",
              "      <td>ANCOR</td>\n",
              "      <td>44</td>\n",
              "    </tr>\n",
              "    <tr>\n",
              "      <th>14</th>\n",
              "      <td>Первый Бит</td>\n",
              "      <td>43</td>\n",
              "    </tr>\n",
              "  </tbody>\n",
              "</table>\n",
              "</div>"
            ],
            "text/plain": [
              "                          name  count\n",
              "0                       Яндекс    181\n",
              "1                   Ростелеком    152\n",
              "2                   Спецремонт    116\n",
              "3       Поляков Денис Иванович     88\n",
              "4                    ООО ЕФИН      71\n",
              "5                   Совкомбанк     63\n",
              "6                          МТС     55\n",
              "7   ЭФКО, Управляющая компания     49\n",
              "8                 Почта России     48\n",
              "9                         КРОН     48\n",
              "10                       MCORE     46\n",
              "11                 ИК СИБИНТЕК     46\n",
              "12             Сбербанк-Сервис     45\n",
              "13                       ANCOR     44\n",
              "14                  Первый Бит     43"
            ]
          },
          "execution_count": 29,
          "metadata": {},
          "output_type": "execute_result"
        }
      ],
      "source": [
        "# результат запроса\n",
        "employer_area_cnt = pd.read_sql_query(query, connection)\n",
        "employer_area_cnt\n"
      ]
    },
    {
      "cell_type": "markdown",
      "id": "eab2206d-d95b-468b-8e5f-34381abf0ce7",
      "metadata": {
        "id": "eab2206d-d95b-468b-8e5f-34381abf0ce7"
      },
      "source": [
        "4. Напишите запрос для подсчёта количества работодателей, у которых не указана сфера деятельности. "
      ]
    },
    {
      "cell_type": "code",
      "execution_count": 30,
      "id": "80defb23-bfb1-4a18-8be6-bf36aa7165d5",
      "metadata": {
        "id": "80defb23-bfb1-4a18-8be6-bf36aa7165d5"
      },
      "outputs": [],
      "source": [
        "# текст запроса\n",
        "query = f'''\n",
        "SELECT \n",
        "    COUNT(*)  /*счёт; число строк*/\n",
        "FROM employers e  /*из таблицы employers*/\n",
        "    /*LEFT JOIN левое объединение по id таблицы employers и\n",
        "    employer_id таблицы employers_industries*/\n",
        "    LEFT JOIN employers_industries e_i ON e.id = e_i.employer_id\n",
        "WHERE e_i.industry_id IS NULL  /*фильтр, где industry_id пустое значение*/\n",
        "'''\n"
      ]
    },
    {
      "cell_type": "code",
      "execution_count": 31,
      "id": "Dp_yCx6ysQSu",
      "metadata": {
        "id": "Dp_yCx6ysQSu"
      },
      "outputs": [
        {
          "name": "stdout",
          "output_type": "stream",
          "text": [
            "\n",
            "    У 8419 работодателей в анкете не указана сфера деятельности.\n"
          ]
        }
      ],
      "source": [
        "# результат запроса\n",
        "empl_no_industry = pd.read_sql_query(query, connection)\n",
        "print('''\n",
        "    У {0} работодателей в анкете не указана сфера деятельности.'''\n",
        "      .format(empl_no_industry.iloc[0, 0]))\n"
      ]
    },
    {
      "cell_type": "markdown",
      "id": "0112af31-f6b0-4e3b-82ab-71296e752e5e",
      "metadata": {
        "id": "0112af31-f6b0-4e3b-82ab-71296e752e5e"
      },
      "source": [
        "5. Напишите запрос, чтобы узнать название компании, находящейся на третьем месте в алфавитном списке (по названию) компаний, у которых указано четыре сферы деятельности. "
      ]
    },
    {
      "cell_type": "code",
      "execution_count": 32,
      "id": "973b0cfc-a972-470a-8b4a-68744ef220c4",
      "metadata": {
        "id": "973b0cfc-a972-470a-8b4a-68744ef220c4"
      },
      "outputs": [],
      "source": [
        "# текст запроса\n",
        "query = f'''\n",
        "SELECT \n",
        "    e.name,                        /*столбец name таблицы town*/\n",
        "    COUNT(e_i.industry_id)         /*счёт;значения столбца employer_id*/\n",
        "FROM employers e\n",
        "    /*LEFT JOIN левое объединение по признаку id таблицы employers и\n",
        "    employer_id таблицы employers_industries */\n",
        "    LEFT JOIN employers_industries e_i ON e.id = e_i.employer_id\n",
        "    \n",
        "WHERE e_i.industry_id IS NOT NULL  /*фильтр, где не пустое значение*/\n",
        "GROUP BY e.id                      /*группируем id - идентификационный номер*/\n",
        "HAVING COUNT(e_i.industry_id) = 4  /*фильтр, где счёт industry_id = 4*/\n",
        "ORDER BY e.name ASC                /*порядок по  столбцу e.name; восходящий*/\n",
        "    OFFSET 2                       /*OFFSET исключает первые две строк*/   \n",
        "LIMIT 1                            /*выводим только одно значение*/\n",
        "'''\n"
      ]
    },
    {
      "cell_type": "code",
      "execution_count": 33,
      "id": "xsPtpp8EsaED",
      "metadata": {
        "id": "xsPtpp8EsaED"
      },
      "outputs": [
        {
          "name": "stdout",
          "output_type": "stream",
          "text": [
            "\n",
            "    Компания \"2ГИС\" находится на третьем месте среди тех, у кого указано\n",
            "    четыре сферы деятельности.\n"
          ]
        }
      ],
      "source": [
        "# результат запроса\n",
        "empl_yes_4_industry = pd.read_sql_query(query, connection)\n",
        "empl_yes_4_industry\n",
        "print('''\n",
        "    Компания \"{0}\" находится на третьем месте среди тех, у кого указано\n",
        "    четыре сферы деятельности.'''.format(empl_yes_4_industry.iloc[0, 0]))\n"
      ]
    },
    {
      "cell_type": "markdown",
      "id": "3bfcfdaf-755d-4d2b-8ed8-326201dc07ab",
      "metadata": {
        "id": "3bfcfdaf-755d-4d2b-8ed8-326201dc07ab"
      },
      "source": [
        "6. С помощью запроса выясните, у какого количества работодателей в качестве сферы деятельности указана Разработка программного обеспечения.\n"
      ]
    },
    {
      "cell_type": "code",
      "execution_count": 34,
      "id": "ad3f270f-2991-47eb-929b-e8f88a55b0d1",
      "metadata": {
        "id": "ad3f270f-2991-47eb-929b-e8f88a55b0d1"
      },
      "outputs": [],
      "source": [
        "# текст запроса\n",
        "query = f'''\n",
        "SELECT \n",
        "    COUNT(e.id)  /*счёт;значения столбца id*/\n",
        "FROM employers e\n",
        "    /*объединение по ризнаку по employers_industries таблицы employer_id и\n",
        "    id таблицы employers */\n",
        "    LEFT JOIN employers_industries e_i ON e.id = e_i.employer_id\n",
        "    /*объединение по ризнаку по id таблицы industries и\n",
        "    id таблицы employers */\n",
        "    JOIN industries i ON e_i.industry_id = i.id\n",
        "WHERE i.name = 'Разработка программного обеспечения'\n",
        "'''\n"
      ]
    },
    {
      "cell_type": "code",
      "execution_count": 35,
      "id": "H72qxWM0shPR",
      "metadata": {
        "id": "H72qxWM0shPR"
      },
      "outputs": [
        {
          "name": "stdout",
          "output_type": "stream",
          "text": [
            "\n",
            "    3553 работодателей, указали «Разработку программного обеспечения»,\n",
            "    в качестве сферы деятельности.\n"
          ]
        }
      ],
      "source": [
        "# результат запроса\n",
        "empl_developer = pd.read_sql_query(query, connection)\n",
        "print('''\n",
        "    {0} работодателей, указали «Разработку программного обеспечения»,\n",
        "    в качестве сферы деятельности.'''.format(empl_developer.iloc[0, 0]))\n"
      ]
    },
    {
      "cell_type": "markdown",
      "id": "7b02bb86-0546-40fb-94a4-242f050a5c57",
      "metadata": {
        "id": "7b02bb86-0546-40fb-94a4-242f050a5c57"
      },
      "source": [
        "7. Для компании «Яндекс» выведите список регионов-миллионников, в которых представлены вакансии компании, вместе с количеством вакансий в этих регионах. Также добавьте строку Total с общим количеством вакансий компании. Результат отсортируйте по возрастанию количества.\n",
        "\n",
        "Список городов-милионников надо взять [отсюда](https://ru.wikipedia.org/wiki/%D0%93%D0%BE%D1%80%D0%BE%D0%B4%D0%B0-%D0%BC%D0%B8%D0%BB%D0%BB%D0%B8%D0%BE%D0%BD%D0%B5%D1%80%D1%8B_%D0%A0%D0%BE%D1%81%D1%81%D0%B8%D0%B8). \n",
        "\n",
        "Если возникнут трудности с этим задание посмотрите материалы модуля  PYTHON-17. Как получать данные из веб-источников и API. "
      ]
    },
    {
      "cell_type": "code",
      "execution_count": 36,
      "id": "ZdfrL6gIs1Pn",
      "metadata": {
        "id": "ZdfrL6gIs1Pn"
      },
      "outputs": [
        {
          "name": "stdout",
          "output_type": "stream",
          "text": [
            "('Москва', 'Санкт-Петербург', 'Новосибирск', 'Екатеринбург', 'Казань', 'Нижний Новгород', 'Красноярск', 'Челябинск', 'Самара', 'Уфа', 'Ростов-на-Дону', 'Омск', 'Краснодар', 'Воронеж', 'Пермь', 'Волгоград')\n"
          ]
        }
      ],
      "source": [
        "# Код для получения списка городов-милионников.\n",
        "import requests\n",
        "from bs4 import BeautifulSoup\n",
        "\n",
        "# Определяем адрес страницы\n",
        "url = 'https://ru.wikipedia.org/wiki/%D0%93%D0%BE%D1%80%D0%BE%D0%B4%D0%B0-%D0%BC%D0%B8%D0%BB%D0%BB%D0%B8%D0%BE%D0%BD%D0%B5%D1%80%D1%8B_%D0%A0%D0%BE%D1%81%D1%81%D0%B8%D0%B8'\n",
        "# Выполняем GET-запрос\n",
        "response = requests.get(url)\n",
        "# Создаём объект BeautifulSoup, указывая html-парсер\n",
        "page = BeautifulSoup(response.text, 'html.parser')\n",
        "\n",
        "# В считаной странице page находим нужную таблицу по тегу <table>\n",
        "table1 = page.find('table', class_='standard')\n",
        "\n",
        "# В table1 найдём название колонки таблицы по тегу <th></th>,\n",
        "# и занесём все значения которые будут в промежутке тега <th></th>\n",
        "# в список headers\n",
        "headers = []\n",
        "for i in table1.find_all('th'):\n",
        "    title = i.text  # .text т.е. только имя колонки занесём в title\n",
        "    headers.append(title)  # добавим имя колонки в список\n",
        "\n",
        "# Создаём DataFrame и передаём список headers в качестве названий колонок.\n",
        "mydata = pd.DataFrame(columns=headers)\n",
        "\n",
        "# Заносим данные в DataFrame с помощью цикла\n",
        "#\n",
        "# Список значений начинаем со второго значения [1:], т.к. в нём далее\n",
        "# не будет тега <td></td>, иначе в row будет пустой\n",
        "# список, который не может быть занесён в DataFrame в качестве строки\n",
        "# данных из пяти значений, т.к. пять колонок. Надо помнить что первая\n",
        "# строка данных table1 содержит названия колонок, которые мы\n",
        "# применили и создали df см.выше.\n",
        "for j in table1.find_all('tr')[1:]:\n",
        "    row_data = j.find_all('td')\n",
        "    row = [i.text for i in row_data]\n",
        "    # Определяем высоту таблицы и номер следущей строки.\n",
        "    length = len(mydata)\n",
        "    # Заносим список (из 5 значений) в строку DataFrame,\n",
        "    # по номеру строки Length.\n",
        "    mydata.loc[length] = row\n",
        "\n",
        "# Изменим имя Воронеж[a] на Воронеж, иначе запрос не найдёт этот город\n",
        "mydata.loc[13]['Город'] = 'Воронеж'\n",
        "\n",
        "# В переменную city_millions запишем список городов в виде кортежа\n",
        "city_millions = tuple(mydata[\"Город\"])\n",
        "print(city_millions)\n"
      ]
    },
    {
      "cell_type": "code",
      "execution_count": 37,
      "id": "5a0e32a4-e68a-4365-8a39-2fe24c542c36",
      "metadata": {
        "id": "5a0e32a4-e68a-4365-8a39-2fe24c542c36"
      },
      "outputs": [],
      "source": [
        "# текст запроса\n",
        "query = f'''\n",
        "WITH x AS\n",
        "(SELECT \n",
        "    a.name town,                          /*покажем столбец name*/\n",
        "    COUNT(v.id)::integer cnt              /*счёт;значения столбца id*/\n",
        "FROM vacancies v                          /*из таблицы vacancies*/ \n",
        "JOIN employers e ON v.employer_id = e.id  /*объединяем с таблице employers*/\n",
        "JOIN areas a ON v.area_id = a.id          /*объединяем с таблице areas*/\n",
        "WHERE e.name='Яндекс'                     /*фильтр значений*/ \n",
        "    /*city_millions используем как список значений перданных в Metabase*/\n",
        "    AND (a.name in {city_millions} OR a.name = 'Воронеж')\n",
        "GROUP BY a.name                           /*группируем по имени*/\n",
        "ORDER BY 1 ASC)                           /*порядок восходящий*/\n",
        "\n",
        "SELECT*\n",
        "FROM x\n",
        "\n",
        "union all                              /*объединяем со строкой по вертикали*/               \n",
        "\n",
        "(SELECT \n",
        "    'Total',SUM(x.cnt)     \n",
        "FROM x)  \n",
        "'''\n"
      ]
    },
    {
      "cell_type": "code",
      "execution_count": 38,
      "id": "ttPhiO1rsvPq",
      "metadata": {
        "id": "ttPhiO1rsvPq"
      },
      "outputs": [
        {
          "name": "stdout",
          "output_type": "stream",
          "text": [
            "               town  cnt\n",
            "0         Волгоград   24\n",
            "1           Воронеж   32\n",
            "2      Екатеринбург   39\n",
            "3            Казань   25\n",
            "4         Краснодар   30\n",
            "5        Красноярск   23\n",
            "6            Москва   54\n",
            "7   Нижний Новгород   36\n",
            "8       Новосибирск   35\n",
            "9              Омск   21\n",
            "10            Пермь   25\n",
            "11   Ростов-на-Дону   25\n",
            "12           Самара   26\n",
            "13  Санкт-Петербург   42\n",
            "14              Уфа   26\n",
            "15        Челябинск   22\n",
            "16            Total  485\n"
          ]
        }
      ],
      "source": [
        "# результат запроса\n",
        "df = pd.read_sql_query(query,connection)\n",
        "print(df)"
      ]
    },
    {
      "attachments": {},
      "cell_type": "markdown",
      "id": "04966e40-3bc3-4dc8-9ba2-e80580ce3abc",
      "metadata": {
        "id": "04966e40-3bc3-4dc8-9ba2-e80580ce3abc"
      },
      "source": [
        "## Вывод по анализу работодателей:"
      ]
    },
    {
      "cell_type": "code",
      "execution_count": 39,
      "id": "aGGyER-yt4SR",
      "metadata": {
        "id": "aGGyER-yt4SR"
      },
      "outputs": [
        {
          "name": "stdout",
          "output_type": "stream",
          "text": [
            "\n",
            "    1) На первом месте по количеству вакансий занимает \"Яндекс\",на пятом\n",
            "    \"Газпром нефть\" это говорит о том, что наиболее крупные компании, размещают\n",
            "    больше вакансий.\n",
            "    \n",
            "    2) Наибольшее количество работодателей нахдятся в Россия. В качестве\n",
            "    региона для работы никто не указывает её. Это действительно так, т.к.\n",
            "    Россия  большая страна с большой территорией. Работодатели стараются\n",
            "    найти сотрудников, в близи тех районов, где осуществляют деятельность,\n",
            "    для удобства взаимодействия.\n",
            "    \n",
            "    3) Компания \"Яндекс\" ведёт поиск сотрудников в 181 регионе и является\n",
            "    лидером по данному показателю.\n",
            "    \n",
            "    4) 8419 работодателей не указана сферы деятельности, т.е. 36% из\n",
            "    общего числа. Причиной возможно служит то, что для компании это\n",
            "    новое направление и сфера деятельности ещё не сформировалась,\n",
            "    либо работа требует от работника высоких профессиональных навыков \n",
            "    в различных областях.\n",
            "    \n",
            "    5) Компания 2ГИС находится на третьем месте, у которой указано\n",
            "    четыре сферы деятельности. Возможно такие компании имеют различные\n",
            "    способы зароботка, поэтому имею различные сферы деятельности,\n",
            "    а также то что все вместе они дополняют, друг друга и приносят\n",
            "    компании дополнительную прибыль.\n",
            "    \n",
            "    6) У 3553 работодатей в качестве сферы деятельности указана\n",
            "    «Разработка программного обеспечения». Это составляет около  \n",
            "    15% от общего числа компаний. Это весомая доля организаций\n",
            "    и с каждым годом этот показатель может расти.\n",
            "    Для сайта в качестве рекомендации:\n",
            "    Так как IT профессия весьма сложная то для кандидатов можно было\n",
            "    бы устроить микро-тесты по ключевым навыкам. Таким образом соискатель\n",
            "    мог бы проверить свои силы, а работодатель сэконимил время при подборе,\n",
            "    нужного работника, до того как провести собеседование.\n",
            "    \n",
            "    7) Для компании «Яндекс» мы вывели список регионов-миллионников,\n",
            "    в которых представлены вакансии компании, вместе с количеством\n",
            "    вакансий в этих регионах. Как результат во всех городах милионниках\n",
            "    есть вакансии этой компании.\n",
            "    \n"
          ]
        }
      ],
      "source": [
        "# выводы по анализу работодателей\n",
        "print('''\n",
        "    1) На первом месте по количеству вакансий занимает \"{0}\",на пятом\n",
        "    \"{1}\" это говорит о том, что наиболее крупные компании, размещают\n",
        "    больше вакансий.\n",
        "    \n",
        "    2) Наибольшее количество работодателей нахдятся в {2}. В качестве\n",
        "    региона для работы никто не указывает её. Это действительно так, т.к.\n",
        "    {3}  большая страна с большой территорией. Работодатели стараются\n",
        "    найти сотрудников, в близи тех районов, где осуществляют деятельность,\n",
        "    для удобства взаимодействия.\n",
        "    \n",
        "    3) Компания \"{4}\" ведёт поиск сотрудников в {5} регионе и является\n",
        "    лидером по данному показателю.\n",
        "    \n",
        "    4) {6} работодателей не указана сферы деятельности, т.е. {7}% из\n",
        "    общего числа. Причиной возможно служит то, что для компании это\n",
        "    новое направление и сфера деятельности ещё не сформировалась,\n",
        "    либо работа требует от работника высоких профессиональных навыков \n",
        "    в различных областях.\n",
        "    \n",
        "    5) Компания {8} находится на третьем месте, у которой указано\n",
        "    четыре сферы деятельности. Возможно такие компании имеют различные\n",
        "    способы зароботка, поэтому имею различные сферы деятельности,\n",
        "    а также то что все вместе они дополняют, друг друга и приносят\n",
        "    компании дополнительную прибыль.\n",
        "    \n",
        "    6) У {9} работодатей в качестве сферы деятельности указана\n",
        "    «Разработка программного обеспечения». Это составляет около  \n",
        "    {10}% от общего числа компаний. Это весомая доля организаций\n",
        "    и с каждым годом этот показатель может расти.\n",
        "    Для сайта в качестве рекомендации:\n",
        "    Так как IT профессия весьма сложная то для кандидатов можно было\n",
        "    бы устроить микро-тесты по ключевым навыкам. Таким образом соискатель\n",
        "    мог бы проверить свои силы, а работодатель сэконимил время при подборе,\n",
        "    нужного работника, до того как провести собеседование.\n",
        "    \n",
        "    7) Для компании «Яндекс» мы вывели список регионов-миллионников,\n",
        "    в которых представлены вакансии компании, вместе с количеством\n",
        "    вакансий в этих регионах. Как результат во всех городах милионниках\n",
        "    есть вакансии этой компании.\n",
        "    '''\n",
        "      .format(employer[0], employer[1], employer_from, employer_from,\n",
        "              employer_area_cnt.iloc[0][0], employer_area_cnt.iloc[0][1],\n",
        "              empl_no_industry.iloc[0, 0],\n",
        "              round((empl_no_industry.iloc[0, 0]/employers.iloc[0, 0])*100),\n",
        "              empl_yes_4_industry.iloc[0, 0], empl_developer.iloc[0, 0],\n",
        "              round((empl_developer.iloc[0, 0]/employers.iloc[0, 0])*100))\n",
        "      )\n"
      ]
    },
    {
      "cell_type": "markdown",
      "id": "b1ef156a-efcb-49ce-bb23-90763e7f35b2",
      "metadata": {
        "id": "b1ef156a-efcb-49ce-bb23-90763e7f35b2",
        "tags": []
      },
      "source": [
        "# Юнит 6. Предметный анализ"
      ]
    },
    {
      "cell_type": "markdown",
      "id": "b9cd50a0-992d-4988-8463-2b2b1c4629b4",
      "metadata": {
        "id": "b9cd50a0-992d-4988-8463-2b2b1c4629b4"
      },
      "source": [
        "1. Сколько вакансий имеет отношение к данным?\n",
        "\n",
        "Считаем, что вакансия имеет отношение к данным, если в её названии содержатся слова 'data' или 'данн'.\n",
        "\n",
        "*Подсказка: Обратите внимание, что названия вакансий могут быть написаны в любом регистре.* \n"
      ]
    },
    {
      "cell_type": "code",
      "execution_count": 70,
      "id": "54ab0e50-c0f1-47cc-a54b-bc5c8bc363f9",
      "metadata": {
        "id": "54ab0e50-c0f1-47cc-a54b-bc5c8bc363f9"
      },
      "outputs": [],
      "source": [
        "# текст запроса\n",
        "query = f'''\n",
        "SELECT \n",
        "    COUNT(DISTINCT v.id)     /* счёт уникальных;значения столбца id*/\n",
        "FROM \n",
        "    vacancies v              /* из таблицы areas*/\n",
        "    \n",
        "/* Фильтр по работе с данными. Различные комбинации вводов пользователей*/    \n",
        "WHERE v.name LIKE '%данн%'   \n",
        "    OR v.name LIKE '%data%'\n",
        "    OR v.name LIKE '%Data%'\n",
        "    OR v.name LIKE '%DATA%' \n",
        "    OR v.name LIKE '%Данн%'\n",
        "    OR v.name LIKE '%ДАНН%'\n",
        "        '''"
      ]
    },
    {
      "cell_type": "code",
      "execution_count": 71,
      "id": "9F1meAqsuUjd",
      "metadata": {
        "id": "9F1meAqsuUjd"
      },
      "outputs": [
        {
          "name": "stdout",
          "output_type": "stream",
          "text": [
            "1771 вакансия имеет отношение к данным.\n"
          ]
        }
      ],
      "source": [
        "# результат запроса\n",
        "df = pd.read_sql_query(query,connection)\n",
        "v_data = df.iloc[0]['count'] \n",
        "print(f'{v_data} вакансия имеет отношение к данным.')"
      ]
    },
    {
      "cell_type": "markdown",
      "id": "4dea20cb-a36b-474a-a0b9-e08e8e3857a5",
      "metadata": {
        "id": "4dea20cb-a36b-474a-a0b9-e08e8e3857a5"
      },
      "source": [
        "2. Сколько есть подходящих вакансий для начинающего дата-сайентиста? \n",
        "Будем считать вакансиями для дата-сайентистов такие, в названии которых есть хотя бы одно из следующих сочетаний:\n",
        "* 'data scientist'\n",
        "* 'data science'\n",
        "* 'исследователь данных'\n",
        "* 'ML' (здесь не нужно брать вакансии по HTML)\n",
        "* 'machine learning'\n",
        "* 'машинн%обучен%'\n",
        "\n",
        "** В следующих заданиях мы продолжим работать с вакансиями по этому условию.*\n",
        "\n",
        "Считаем вакансиями для специалистов уровня Junior следующие:\n",
        "* в названии есть слово 'junior' *или*\n",
        "* требуемый опыт — Нет опыта *или*\n",
        "* тип трудоустройства — Стажировка.\n",
        " "
      ]
    },
    {
      "cell_type": "code",
      "execution_count": 42,
      "id": "9c61b3c0-bb66-46c9-ae1e-81d3f5752b4a",
      "metadata": {
        "id": "9c61b3c0-bb66-46c9-ae1e-81d3f5752b4a"
      },
      "outputs": [],
      "source": [
        "# текст запроса\n",
        "query = f'''\n",
        "SELECT COUNT(DISTINCT v.id)  /* счёт;уникальные значения id*/\n",
        "    FROM vacancies v         /* из таблицы vacancies*/\n",
        "/* Фильтр по специальности дата саентиста.*/\n",
        "WHERE (v.name ILIKE '%data scientist%' \n",
        "    OR v.name ILIKE '%data science%' \n",
        "    OR v.name ILIKE '%исследователь данных%'\n",
        "    OR name ILIKE '%machine learning%'\n",
        "    OR v.name ILIKE '%машинн%обучен%'\n",
        "    OR (v.name LIKE '%ML%' AND v.name NOT LIKE '%HTML%'))\n",
        "    \n",
        "    AND\n",
        "    \n",
        "    /* Фильтр по специальности дата саентиста, без опыта работы.*/\n",
        "    (v.name ILIKE '%junior%' OR\n",
        "    v.experience ILIKE '%Нет опыта%' OR\n",
        "    v.employment ILIKE '%Стажировка%')\n",
        "    '''\n"
      ]
    },
    {
      "cell_type": "code",
      "execution_count": 43,
      "id": "ZNM-LLYuu1dj",
      "metadata": {
        "id": "ZNM-LLYuu1dj"
      },
      "outputs": [
        {
          "name": "stdout",
          "output_type": "stream",
          "text": [
            "51 подходящих вакансий для начинающего дата-сайентиста\n"
          ]
        }
      ],
      "source": [
        "# результат запроса\n",
        "df = pd.read_sql_query(query, connection)\n",
        "v_data_bigner = df.iloc[0]['count']\n",
        "print(f'{v_data_bigner} подходящих вакансий для начинающего дата-сайентиста')\n"
      ]
    },
    {
      "cell_type": "markdown",
      "id": "eedceb80-c5ca-480e-b27a-278dfb8b4438",
      "metadata": {
        "id": "eedceb80-c5ca-480e-b27a-278dfb8b4438"
      },
      "source": [
        "3. Сколько есть вакансий для DS, в которых в качестве ключевого навыка указан SQL или postgres?\n",
        "\n",
        "** Критерии для отнесения вакансии к DS указаны в предыдущем задании.*"
      ]
    },
    {
      "cell_type": "code",
      "execution_count": 44,
      "id": "69621713-0cc5-4f1b-a1d7-bb144fa6148c",
      "metadata": {
        "id": "69621713-0cc5-4f1b-a1d7-bb144fa6148c"
      },
      "outputs": [],
      "source": [
        "# текст запроса\n",
        "query = f'''\n",
        "SELECT\n",
        "    count(v.name)   /* покажем столбец name */\n",
        "\n",
        "FROM vacancies v    /* из таблицы vacancies*/\n",
        "\n",
        "WHERE       /* фильтр по специальности дата саентиста*/\n",
        "    (\n",
        "    name ILIKE '%data scientist%' \n",
        "    OR name ILIKE '%data science%' \n",
        "    OR name ILIKE '%исследователь данных%'\n",
        "    OR (name LIKE '%ML%' AND name NOT ILIKE '%HTML%')\n",
        "    OR name ILIKE '%machine learning%'\n",
        "    OR name ILIKE '%машинн%обучен%'\n",
        "    AND key_skills IS NOT NULL\n",
        "    )\n",
        "    \n",
        "    AND \n",
        "    /* фильтр по навыку знаний SQL и postgres*/   \n",
        "    (key_skills LIKE '%SQL%' OR key_skills ILIKE'%postgres%')\n",
        "'''"
      ]
    },
    {
      "cell_type": "code",
      "execution_count": 45,
      "id": "alA8WEAAvGdf",
      "metadata": {
        "id": "alA8WEAAvGdf"
      },
      "outputs": [
        {
          "name": "stdout",
          "output_type": "stream",
          "text": [
            "В 201 вакансии для DS в качестве ключа указан навык SQL или postgres.\n"
          ]
        }
      ],
      "source": [
        "# результат запроса\n",
        "df = pd.read_sql_query(query, connection)\n",
        "v_data_SQL = df.iloc[0]['count']\n",
        "print('В {0} вакансии для DS в качестве ключа указан навык SQL или postgres.'\n",
        "      .format(v_data_SQL))\n"
      ]
    },
    {
      "cell_type": "markdown",
      "id": "1be1e9c6-37cf-4a5f-bfeb-04cab799dc80",
      "metadata": {
        "id": "1be1e9c6-37cf-4a5f-bfeb-04cab799dc80"
      },
      "source": [
        "4. Проверьте, насколько популярен Python в требованиях работодателей к DS.Для этого вычислите количество вакансий, в которых в качестве ключевого навыка указан Python.\n",
        "\n",
        "** Это можно сделать помощью запроса, аналогичного предыдущему.*"
      ]
    },
    {
      "cell_type": "code",
      "execution_count": 46,
      "id": "0036a355-9ccf-4564-8b01-73d8194297e7",
      "metadata": {
        "id": "0036a355-9ccf-4564-8b01-73d8194297e7"
      },
      "outputs": [],
      "source": [
        "# текст запроса\n",
        "query = f'''\n",
        "SELECT\n",
        "    COUNT(v.id)     /* счёт;значения столбца id*/\n",
        "\n",
        "FROM vacancies v    /* из таблицы vacancies*/\n",
        "\n",
        "/* фильтр по специальности дата саентиста*/\n",
        "WHERE (name ILIKE '%data scientist%'\n",
        "    OR name ILIKE '%data science%' \n",
        "    OR name ILIKE '%исследователь данных%'\n",
        "    OR ((name LIKE '%ML%') AND (name NOT ILIKE '%HTML%'))\n",
        "    OR (name ILIKE '%machine learning%')\n",
        "    OR (name ILIKE '%машинн%обучен%')\n",
        "    AND (key_skills IS NOT NULL))\n",
        "    \n",
        "    /* фильтр по навыку знаний Python*/\n",
        "    AND key_skills LIKE '%Python%'\n",
        "    '''"
      ]
    },
    {
      "cell_type": "code",
      "execution_count": 47,
      "id": "1i-5WyucvQ6v",
      "metadata": {
        "id": "1i-5WyucvQ6v"
      },
      "outputs": [
        {
          "name": "stdout",
          "output_type": "stream",
          "text": [
            "В 351 вакансии для DS в качестве ключа указан навык Python.\n"
          ]
        }
      ],
      "source": [
        "# результат запроса\n",
        "df = pd.read_sql_query(query, connection)\n",
        "v_data_Python = df.iloc[0]['count']\n",
        "print('В {0} вакансии для DS в качестве ключа указан навык Python.'\n",
        "      .format(v_data_Python))\n"
      ]
    },
    {
      "cell_type": "markdown",
      "id": "ec3c8db7-fa21-4a41-a994-1af63742a642",
      "metadata": {
        "id": "ec3c8db7-fa21-4a41-a994-1af63742a642"
      },
      "source": [
        "5. Сколько ключевых навыков в среднем указывают в вакансиях для DS?\n",
        "Ответ округлите до двух знаков после точки-разделителя."
      ]
    },
    {
      "cell_type": "code",
      "execution_count": 48,
      "id": "949132bc-d5b6-4611-8218-0b9a504d74f4",
      "metadata": {
        "id": "949132bc-d5b6-4611-8218-0b9a504d74f4"
      },
      "outputs": [],
      "source": [
        "# текст запроса\n",
        "query = f'''\n",
        "SELECT\n",
        "    /* Мы определяем сколько навыков указано в строке. Для этого от общей\n",
        "    длины строки отнимаем туже длину, но убрав символ CHR(9) (т.е. 'TAB').\n",
        "    'TAB' служит разделителем между навыками. Окрыгляем среднее значение.*/\n",
        "    ROUND(AVG((LENGTH(v.key_skills) \n",
        "    - LENGTH(replace(v.key_skills,CHR(9),'')))::integer + 1),2) as result\n",
        "FROM vacancies v    /* из таблицы vacancies*/\n",
        "\n",
        "/* фильтр по специальности дата саентиста*/ \n",
        "WHERE (v.name ILIKE '%data scientist%' \n",
        "    OR v.name ILIKE '%data science%' \n",
        "    OR v.name ILIKE '%исследователь данных%' \n",
        "    OR v.name ILIKE '%машинн%обучен%' \n",
        "    OR v.name ILIKE '%machine learning%' \n",
        "    OR (v.name LIKE '%ML%'  AND v.name NOT ILIKE '%HTML%'))\n",
        "    \n",
        "    /* фильтр, где ячейки key_skills не пустые*/            \n",
        "    AND v.key_skills IS NOT NULL\n",
        "'''\n"
      ]
    },
    {
      "cell_type": "code",
      "execution_count": 49,
      "id": "a3V24Tvmviqk",
      "metadata": {
        "id": "a3V24Tvmviqk"
      },
      "outputs": [
        {
          "name": "stdout",
          "output_type": "stream",
          "text": [
            "В среднем указываю около 6.41 навыков для вакансии DS.\n"
          ]
        }
      ],
      "source": [
        "# результат запроса\n",
        "df = pd.read_sql_query(query, connection)\n",
        "v_skills = df.iloc[0][0]\n",
        "print('В среднем указываю около {0} навыков для вакансии DS.'\n",
        "      .format(v_skills))\n"
      ]
    },
    {
      "cell_type": "markdown",
      "id": "1041c17a-ca8f-4543-a0ca-32778914fb00",
      "metadata": {
        "id": "1041c17a-ca8f-4543-a0ca-32778914fb00"
      },
      "source": [
        "6. Напишите запрос, позволяющий вычислить, какую зарплату для DS в **среднем** указывают для каждого типа требуемого опыта (уникальное значение из поля *experience*). \n",
        "\n",
        "При решении задачи примите во внимание следующее:\n",
        "1. Рассматриваем только вакансии, у которых заполнено хотя бы одно из двух полей с зарплатой.\n",
        "2. Если заполнены оба поля с зарплатой, то считаем зарплату по каждой вакансии как сумму двух полей, делённую на 2. Если заполнено только одно из полей, то его и считаем зарплатой по вакансии.\n",
        "3. Если в расчётах участвует null, в результате он тоже даст null (посмотрите, что возвращает запрос select 1 + null). Чтобы избежать этой ситуацию, мы воспользуемся функцией [coalesce](https://postgrespro.ru/docs/postgresql/9.5/functions-conditional#functions-coalesce-nvl-ifnull), которая заменит null на значение, которое мы передадим. Например, посмотрите, что возвращает запрос `select 1 + coalesce(null, 0)`\n",
        "\n",
        "Выясните, на какую зарплату в среднем может рассчитывать дата-сайентист с опытом работы от 3 до 6 лет. Результат округлите до целого числа. "
      ]
    },
    {
      "cell_type": "code",
      "execution_count": 76,
      "id": "6a743d39-5204-48d3-8271-b9f88e68d40e",
      "metadata": {
        "id": "6a743d39-5204-48d3-8271-b9f88e68d40e"
      },
      "outputs": [],
      "source": [
        "# текст запроса\n",
        "query = f'''with x as (\n",
        "SELECT \n",
        "    v.experience,   /* покжем столбец experience */\n",
        "    v.salary_from,  /* покжем столбец salary_from */\n",
        "    v.salary_to,    /* salary_to */\n",
        "    /* Складываем min и max зарплату и делим на 2, чтобы найти среднюю.*/\n",
        "    (v.salary_from + v.salary_to)/2 as result\n",
        "FROM vacancies v\n",
        "/* фильтр по специальности дата саентиста*/ \n",
        "WHERE (v.name ILIKE '%data scientist%' OR\n",
        "        v.name ILIKE '%data science%' OR\n",
        "        v.name ILIKE '%исследователь данных%' OR\n",
        "        v.name ILIKE '%машинн%обучен%' OR\n",
        "        v.name ILIKE '%machine learning%' OR\n",
        "        v.name LIKE '%ML%' AND v.name NOT LIKE '%HTML%')\n",
        "        /* фильтр, где указана min и max зарплата(ЗП) */      \n",
        "        AND (v.salary_from IS NOT NULL AND v.salary_to IS NOT NULL)\n",
        "                \n",
        "UNION  ALL  /* объединение таблиц по вертикали, всех строк со всеми*/ \n",
        "    \n",
        "SELECT \n",
        "    v.experience,   \n",
        "    v.salary_from,\n",
        "    v.salary_to,\n",
        "    /* coalesce(v.salary_from,0) если не указана зарплата заменит на 0*/\n",
        "    coalesce(v.salary_from,0) + coalesce(v.salary_to,0) \n",
        "FROM vacancies v\n",
        "WHERE (v.name ILIKE '%data scientist%' OR\n",
        "        v.name ILIKE '%data science%' OR\n",
        "        v.name ILIKE '%исследователь данных%' OR\n",
        "        v.name ILIKE '%машинн%обучен%' OR\n",
        "        v.name ILIKE '%machine learning%' OR\n",
        "        v.name LIKE '%ML%' AND v.name NOT LIKE '%HTML%') \n",
        "        /* фильтр, где указана либо min или max зарплата(ЗП) */       \n",
        "        AND ((v.salary_from IS NULL AND v.salary_to IS NOT NULL)\n",
        "        OR (v.salary_from IS NOT NULL AND v.salary_to IS NULL)))\n",
        "    \n",
        "/*experience::text переводит все данные столбца в текст*/ \n",
        "/*AVG(result)::integer переводит все данные в целый тип и выводит средний\n",
        "результат*/   \n",
        "SELECT experience::text, AVG(result)::integer median\n",
        "FROM x\n",
        "GROUP BY experience /*групируем по опыту*/ \n",
        "    \n",
        "UNION All  /* объединение таблиц по вертикали, всех строк со всеми*/\n",
        "\n",
        "/* Приводим таблицы к одному типу, чтобы их объединить.*/    \n",
        "SELECT 'median_salary'::text, AVG(result)::integer\n",
        "FROM x\n",
        "'''"
      ]
    },
    {
      "cell_type": "code",
      "execution_count": 77,
      "id": "aRIJ0mZEwU1_",
      "metadata": {
        "id": "aRIJ0mZEwU1_"
      },
      "outputs": [
        {
          "name": "stdout",
          "output_type": "stream",
          "text": [
            "Средняя зарплата DS составляет:\n",
            "                     median\n",
            "experience                \n",
            "От 3 до 6 лет       243115\n",
            "От 1 года до 3 лет  139675\n",
            "Нет опыта            74643\n",
            "median_salary       177379\n"
          ]
        }
      ],
      "source": [
        "# результат запроса\n",
        "df = pd.read_sql_query(query,connection)\n",
        "df.set_index('experience',inplace=True)\n",
        "s_median = int(df.loc['median_salary','median'])\n",
        "\n",
        "print (f'''Средняя зарплата DS составляет:\\n {df}''')\n",
        "# "
      ]
    },
    {
      "attachments": {},
      "cell_type": "markdown",
      "id": "6a7892b4-4113-4746-adce-18aa2844f18e",
      "metadata": {
        "id": "6a7892b4-4113-4746-adce-18aa2844f18e"
      },
      "source": [
        "## Выводы по предметному анализу:"
      ]
    },
    {
      "cell_type": "code",
      "execution_count": 52,
      "id": "UjLWUptVwY1o",
      "metadata": {
        "id": "UjLWUptVwY1o"
      },
      "outputs": [
        {
          "name": "stdout",
          "output_type": "stream",
          "text": [
            " \n",
            "    1) 1771 вакансий имеет отношение к данным.\n",
            "    2) 51 подходящая вакансий для начинающего дата-сайентиста.\n",
            "    3) 201 вакансия для DS, в которых в качестве ключевого навыка указан \n",
            "    SQL или postgres.\n",
            "    4) 351 вакансия, в которых в качестве ключевого навыка указан Python.\n",
            "    5) 6.41 ключевых навыков в среднем указывают работодатели в вакансиях\n",
            "    для DS.\n",
            "    6) На зарплату в 177379  в среднем может рассчитывать дата-сайентист.\n",
            "    \n"
          ]
        }
      ],
      "source": [
        "# выводы по предметному анализу\n",
        "print(''' \n",
        "    1) {0} вакансий имеет отношение к данным.\n",
        "    2) {1} подходящая вакансий для начинающего дата-сайентиста.\n",
        "    3) {2} вакансия для DS, в которых в качестве ключевого навыка указан \n",
        "    SQL или postgres.\n",
        "    4) {3} вакансия, в которых в качестве ключевого навыка указан Python.\n",
        "    5) {4} ключевых навыков в среднем указывают работодатели в вакансиях\n",
        "    для DS.\n",
        "    6) На зарплату в {5}  в среднем может рассчитывать дата-сайентист.\n",
        "    '''.format(v_data, v_data_bigner, v_data_SQL, v_data_Python,\n",
        "               v_skills, s_median)\n",
        "      )\n"
      ]
    },
    {
      "cell_type": "markdown",
      "id": "c0ED6fh7wiBT",
      "metadata": {
        "id": "c0ED6fh7wiBT"
      },
      "source": [
        "# Общий вывод по проекту"
      ]
    },
    {
      "cell_type": "code",
      "execution_count": 53,
      "id": "h9B3BL-wwj18",
      "metadata": {
        "id": "h9B3BL-wwj18"
      },
      "outputs": [
        {
          "name": "stdout",
          "output_type": "stream",
          "text": [
            " \n",
            "      Закончив проект можно сделать общие выводы:\n",
            "      1.Предварительный анализ показал,что наша БД состоит\n",
            "      - из 50тыс. вакасий заявленых от работодателей;\n",
            "      - всего около 23,5тыс. компаний в БД в поиске работников;\n",
            "      - в выбрке около 1,3тыс. регионов(городов);\n",
            "      - и около 300 различных сфер деятельности компаний.\n",
            "      \n",
            "      2.Детальный анализ вакансиий показал, что:\n",
            "      - больше всего вакансии в крупных городах;\n",
            "      - у половина предложений о работе указан размер оплаты труда;\n",
            "      - средний уровень зарплаты в варьируется от 70 до 110 тыс.;\n",
            "      - самый распространённые типы занятости и графика(полный день\n",
            "      полная занятость и второй удалённая работа полная занятость);\n",
            "      - самые востребованые специалисты от 1 года до 3 лет.\n",
            "      \n",
            "      3.Анализ работодателей показал,что:\n",
            "      - больше всего вакансий размещают крупные компании;\n",
            "      - большинство работодателей из России;\n",
            "      - наиболее крупные компании ведут поиск работников в большем\n",
            "      количестве городов;\n",
            "      - 36% компаний не имеет определённой сферы деятельности;\n",
            "      - встречаются компании максимум с 4-мя сферами деятельности;\n",
            "      - 15% компаний занимаются \"Разработкой программного обспечения\";\n",
            "      - крупные компания публикуют вакансии в самых крупных городах,\n",
            "      пример \"Яндекс\"\n",
            "      \n",
            "      4.Предметный анализ показал, что:\n",
            "      - около 1800 вакансии имеют отношения к данным;\n",
            "      - около 50 вакансий для начинающего дата-саентиста;\n",
            "      - Python и SQL 2 наиболее важных навыка дата-саентиста;\n",
            "      - в среднем дата-саентисту нужно обладать 6 ключевыми навыками;\n",
            "      - зарплата дата-саентиста в среднем около 180тыс. и зависит от опыта.\n",
            "      \n"
          ]
        }
      ],
      "source": [
        "# подведем итог исследования, обобщите выводы\n",
        "print(f''' \n",
        "      Закончив проект можно сделать общие выводы:\n",
        "      1.Предварительный анализ показал,что наша БД состоит\n",
        "      - из 50тыс. вакасий заявленых от работодателей;\n",
        "      - всего около 23,5тыс. компаний в БД в поиске работников;\n",
        "      - в выбрке около 1,3тыс. регионов(городов);\n",
        "      - и около 300 различных сфер деятельности компаний.\n",
        "      \n",
        "      2.Детальный анализ вакансиий показал, что:\n",
        "      - больше всего вакансии в крупных городах;\n",
        "      - у половина предложений о работе указан размер оплаты труда;\n",
        "      - средний уровень зарплаты в варьируется от 70 до 110 тыс.;\n",
        "      - самый распространённые типы занятости и графика(полный день\n",
        "      полная занятость и второй удалённая работа полная занятость);\n",
        "      - самые востребованые специалисты от 1 года до 3 лет.\n",
        "      \n",
        "      3.Анализ работодателей показал,что:\n",
        "      - больше всего вакансий размещают крупные компании;\n",
        "      - большинство работодателей из России;\n",
        "      - наиболее крупные компании ведут поиск работников в большем\n",
        "      количестве городов;\n",
        "      - 36% компаний не имеет определённой сферы деятельности;\n",
        "      - встречаются компании максимум с 4-мя сферами деятельности;\n",
        "      - 15% компаний занимаются \"Разработкой программного обспечения\";\n",
        "      - крупные компания публикуют вакансии в самых крупных городах,\n",
        "      пример \"Яндекс\"\n",
        "      \n",
        "      4.Предметный анализ показал, что:\n",
        "      - около 1800 вакансии имеют отношения к данным;\n",
        "      - около 50 вакансий для начинающего дата-саентиста;\n",
        "      - Python и SQL 2 наиболее важных навыка дата-саентиста;\n",
        "      - в среднем дата-саентисту нужно обладать 6 ключевыми навыками;\n",
        "      - зарплата дата-саентиста в среднем около 180тыс. и зависит от опыта.\n",
        "      ''')"
      ]
    },
    {
      "attachments": {},
      "cell_type": "markdown",
      "id": "923c7b18",
      "metadata": {},
      "source": [
        "## Дополнение."
      ]
    },
    {
      "attachments": {},
      "cell_type": "markdown",
      "id": "0ab4c0c8",
      "metadata": {},
      "source": [
        "В качестве дополнения определим какие ещё ключевые навыки важны для дата саентиста."
      ]
    },
    {
      "attachments": {},
      "cell_type": "markdown",
      "id": "4d994dbd",
      "metadata": {},
      "source": [
        "Для этого сделаем:\n",
        "1. Напишим запрос, который вернёт нам таблицу *df_skills* с одной колонкой *skills*(навыки). Это навыки для каждой вакансий на профессию дата-саентиста."
      ]
    },
    {
      "cell_type": "code",
      "execution_count": 54,
      "id": "7ba11fa9",
      "metadata": {},
      "outputs": [],
      "source": [
        "# текст запроса\n",
        "query = f'''\n",
        "SELECT \n",
        "    /* Заменим символ CHR(9) на $ для наглядности.*/\n",
        "    replace(v.key_skills,CHR(9),'$') skills\n",
        "FROM vacancies v  /* из таблицы vacancies*/\n",
        "WHERE \n",
        "    /* фильтр по специальности дата саентиста*/ \n",
        "    (v.name ILIKE '%data scientist%' OR v.name ILIKE '%data science%' \n",
        "    OR v.name ILIKE '%исследователь данных%'\n",
        "    OR name ILIKE '%machine learning%'\n",
        "    OR v.name ILIKE '%машинн%обучен%'\n",
        "    OR (v.name LIKE '%ML%' AND v.name NOT LIKE '%HTML%')) \n",
        "    '''\n"
      ]
    },
    {
      "cell_type": "code",
      "execution_count": 55,
      "id": "a72b7135",
      "metadata": {},
      "outputs": [
        {
          "data": {
            "text/html": [
              "<div>\n",
              "<style scoped>\n",
              "    .dataframe tbody tr th:only-of-type {\n",
              "        vertical-align: middle;\n",
              "    }\n",
              "\n",
              "    .dataframe tbody tr th {\n",
              "        vertical-align: top;\n",
              "    }\n",
              "\n",
              "    .dataframe thead th {\n",
              "        text-align: right;\n",
              "    }\n",
              "</style>\n",
              "<table border=\"1\" class=\"dataframe\">\n",
              "  <thead>\n",
              "    <tr style=\"text-align: right;\">\n",
              "      <th></th>\n",
              "      <th>skills</th>\n",
              "    </tr>\n",
              "  </thead>\n",
              "  <tbody>\n",
              "    <tr>\n",
              "      <th>0</th>\n",
              "      <td>Python$SQL$Работа в команде$OpenCV$ML</td>\n",
              "    </tr>\n",
              "    <tr>\n",
              "      <th>1</th>\n",
              "      <td>Oracle Pl/SQL$Базы данных$Machine Learning$Маш...</td>\n",
              "    </tr>\n",
              "    <tr>\n",
              "      <th>2</th>\n",
              "      <td>Python$OpenCV$Tensorflow$Computer Vision$Нейро...</td>\n",
              "    </tr>\n",
              "    <tr>\n",
              "      <th>3</th>\n",
              "      <td>Python$Flask$Linux$AWS$Git</td>\n",
              "    </tr>\n",
              "    <tr>\n",
              "      <th>4</th>\n",
              "      <td>Python$SQL$NLP$Scikit-learn$Machine Learning</td>\n",
              "    </tr>\n",
              "    <tr>\n",
              "      <th>...</th>\n",
              "      <td>...</td>\n",
              "    </tr>\n",
              "    <tr>\n",
              "      <th>475</th>\n",
              "      <td>Python$Numpy$PyTorch$Pandas$Математический ана...</td>\n",
              "    </tr>\n",
              "    <tr>\n",
              "      <th>476</th>\n",
              "      <td>Python$Scikit-learn$Pandas$Git$Numpy</td>\n",
              "    </tr>\n",
              "    <tr>\n",
              "      <th>477</th>\n",
              "      <td>Qt$ООП$C++$MS Visual Studio$Разработка компьют...</td>\n",
              "    </tr>\n",
              "    <tr>\n",
              "      <th>478</th>\n",
              "      <td>SCALA$SQL$Математический анализ$Статистический...</td>\n",
              "    </tr>\n",
              "    <tr>\n",
              "      <th>479</th>\n",
              "      <td>Python$Linux$Kubernetes$AWS$Git$People Management</td>\n",
              "    </tr>\n",
              "  </tbody>\n",
              "</table>\n",
              "<p>480 rows × 1 columns</p>\n",
              "</div>"
            ],
            "text/plain": [
              "                                                skills\n",
              "0                Python$SQL$Работа в команде$OpenCV$ML\n",
              "1    Oracle Pl/SQL$Базы данных$Machine Learning$Маш...\n",
              "2    Python$OpenCV$Tensorflow$Computer Vision$Нейро...\n",
              "3                           Python$Flask$Linux$AWS$Git\n",
              "4         Python$SQL$NLP$Scikit-learn$Machine Learning\n",
              "..                                                 ...\n",
              "475  Python$Numpy$PyTorch$Pandas$Математический ана...\n",
              "476               Python$Scikit-learn$Pandas$Git$Numpy\n",
              "477  Qt$ООП$C++$MS Visual Studio$Разработка компьют...\n",
              "478  SCALA$SQL$Математический анализ$Статистический...\n",
              "479  Python$Linux$Kubernetes$AWS$Git$People Management\n",
              "\n",
              "[480 rows x 1 columns]"
            ]
          },
          "execution_count": 55,
          "metadata": {},
          "output_type": "execute_result"
        }
      ],
      "source": [
        "# результат запроса\n",
        "df_skills = pd.read_sql_query(query,connection)\n",
        "\n",
        "# Количество рассматриваемых вакансий для дата-саентиста\n",
        "ds_vacancies = df_skills.size\n",
        "\n",
        "# вывод результат запроса\n",
        "# Навыкы разделены символом $.\n",
        "df_skills"
      ]
    },
    {
      "attachments": {},
      "cell_type": "markdown",
      "id": "7d954bca",
      "metadata": {},
      "source": [
        "2. Из полученой таблицы *df_skills* выберим только уникальные навыки."
      ]
    },
    {
      "cell_type": "code",
      "execution_count": 56,
      "id": "5769e1d7",
      "metadata": {},
      "outputs": [],
      "source": [
        "# Заносим в список skillsDS уникальные названия навыков считаных\n",
        "# из таблицы df_skills.\n",
        "def extract_skill(df):\n",
        "    \"\"\"Функция перебирает все навыки и сохраняет уникальные.\n",
        "\n",
        "    Args:\n",
        "        df (_DataFrame_): Таблица навыков от разных работодателей \n",
        "                          и вакансий\n",
        "    \"\"\"\n",
        "    # Создаём пустой список lib\n",
        "    lib = []\n",
        "\n",
        "    # Цикл перебирает каждую строку таблицы df.\n",
        "    for i in range(len(df)):\n",
        "        # В переменную skills считываем навыки одной вакансии.\n",
        "        skills = str(df.loc[i]['skills'])\n",
        "        # Разбиваем skills на навыки и сохраняем в виде списка.\n",
        "        skills = skills.split(\"$\")\n",
        "        # В цикле перебираем навыки в списке.\n",
        "        for skill in skills:\n",
        "            # Если навык встречается в первый раз сохраняем его в\n",
        "            # skillsDS и наоборот.\n",
        "            if skill.lower() not in lib:\n",
        "                if len(skill) > 1: # Фильтр от умений в одну букву\n",
        "                    # Для фильтра от повторяемости заносим всписок навык\n",
        "                    # в нижнем регистре.\n",
        "                    lib.append(skill.lower())\n",
        "                    # Заносит навык в список в том виде котором он существует.\n",
        "                    skillsDS.append(skill)\n"
      ]
    },
    {
      "cell_type": "code",
      "execution_count": 57,
      "id": "7cc8748b",
      "metadata": {},
      "outputs": [],
      "source": [
        "# Создаём пустой список скилов дата-саентиста.\n",
        "skillsDS = []\n",
        "\n",
        "#Функция заполнить список skillsDS уникальными навыками.\n",
        "extract_skill(df_skills)"
      ]
    },
    {
      "attachments": {},
      "cell_type": "markdown",
      "id": "01133967",
      "metadata": {},
      "source": [
        "3. Напишим запрос который будет проверять в скольких вакансиях встречается навык. Все полученые значения занесём в нашу таблицу *table_skillsDS* с колонками *skill*(навык) и cnt(частота встречаемости)."
      ]
    },
    {
      "cell_type": "code",
      "execution_count": 58,
      "id": "3acb3b20",
      "metadata": {},
      "outputs": [],
      "source": [
        "# Функция определения частоту встречаимости навыка в вакансиях.\n",
        "def find_cnt_skill(skill):\n",
        "    \"\"\" Определяет как часто встречается навык в вакансии.\n",
        "\n",
        "    Args:\n",
        "        skill (string): Передаём название навыка.\n",
        "\n",
        "    Returns:\n",
        "         numpy.int64 : Возвращает частоту встречаимости навыка в вакансиях.\n",
        "    \"\"\"\n",
        "    # Запрос\n",
        "    query = f'''\n",
        "    SELECT \n",
        "        count(*)\n",
        "    FROM vacancies v\n",
        "    WHERE \n",
        "        (v.name ILIKE '%data scientist%' OR v.name ILIKE '%data science%' \n",
        "        OR v.name ILIKE '%исследователь данных%'\n",
        "        OR name ILIKE '%machine learning%'\n",
        "        OR v.name ILIKE '%машинн%обучен%'\n",
        "        OR (v.name LIKE '%ML%' AND v.name NOT LIKE '%HTML%')) \n",
        "        \n",
        "        AND v.key_skills ILIKE '%{skill}%'               \n",
        "        '''\n",
        "    # результат запроса\n",
        "    cnt = pd.read_sql_query(query, connection)\n",
        "    # Переводим в целое число и возвращаем как частоту встречаемости.\n",
        "    return int(cnt.iloc[0][0])\n"
      ]
    },
    {
      "cell_type": "code",
      "execution_count": 59,
      "id": "b4486b82",
      "metadata": {},
      "outputs": [],
      "source": [
        "# Создаём пустой DataFrame с колонками skill(навык) и\n",
        "# cnt(как часто навык встречается в заявке от работодателя)\n",
        "table_skillsDS = pd.DataFrame(columns=['skill', 'cnt'])\n",
        "\n",
        "# Заполняем нашу таблицу skills_DSt по строчно.\n",
        "# Для этого перебираем все навыки из skillsDS\n",
        "for skill in skillsDS:\n",
        "    # Опредляем длинну таблицы.\n",
        "    length = len(table_skillsDS)\n",
        "    # Передаём название навыка в функцию.\n",
        "    count = find_cnt_skill(skill)\n",
        "    # Заносим в таблицу навык и частоту встречаимости.\n",
        "    table_skillsDS.loc[length] = [skill, count]\n"
      ]
    },
    {
      "cell_type": "code",
      "execution_count": 60,
      "id": "81d5663a",
      "metadata": {},
      "outputs": [
        {
          "data": {
            "text/html": [
              "<div>\n",
              "<style scoped>\n",
              "    .dataframe tbody tr th:only-of-type {\n",
              "        vertical-align: middle;\n",
              "    }\n",
              "\n",
              "    .dataframe tbody tr th {\n",
              "        vertical-align: top;\n",
              "    }\n",
              "\n",
              "    .dataframe thead th {\n",
              "        text-align: right;\n",
              "    }\n",
              "</style>\n",
              "<table border=\"1\" class=\"dataframe\">\n",
              "  <thead>\n",
              "    <tr style=\"text-align: right;\">\n",
              "      <th></th>\n",
              "      <th>cnt</th>\n",
              "    </tr>\n",
              "    <tr>\n",
              "      <th>skill</th>\n",
              "      <th></th>\n",
              "    </tr>\n",
              "  </thead>\n",
              "  <tbody>\n",
              "    <tr>\n",
              "      <th>Python</th>\n",
              "      <td>351</td>\n",
              "    </tr>\n",
              "    <tr>\n",
              "      <th>SQL</th>\n",
              "      <td>201</td>\n",
              "    </tr>\n",
              "    <tr>\n",
              "      <th>Machine Learning</th>\n",
              "      <td>141</td>\n",
              "    </tr>\n",
              "    <tr>\n",
              "      <th>IT</th>\n",
              "      <td>104</td>\n",
              "    </tr>\n",
              "    <tr>\n",
              "      <th>ML</th>\n",
              "      <td>74</td>\n",
              "    </tr>\n",
              "    <tr>\n",
              "      <th>Git</th>\n",
              "      <td>70</td>\n",
              "    </tr>\n",
              "    <tr>\n",
              "      <th>Статистика</th>\n",
              "      <td>66</td>\n",
              "    </tr>\n",
              "    <tr>\n",
              "      <th>Data science</th>\n",
              "      <td>64</td>\n",
              "    </tr>\n",
              "    <tr>\n",
              "      <th>Математическая статистика</th>\n",
              "      <td>62</td>\n",
              "    </tr>\n",
              "    <tr>\n",
              "      <th>PyTorch</th>\n",
              "      <td>61</td>\n",
              "    </tr>\n",
              "    <tr>\n",
              "      <th>Pandas</th>\n",
              "      <td>57</td>\n",
              "    </tr>\n",
              "    <tr>\n",
              "      <th>Data Analysis</th>\n",
              "      <td>54</td>\n",
              "    </tr>\n",
              "    <tr>\n",
              "      <th>BI</th>\n",
              "      <td>53</td>\n",
              "    </tr>\n",
              "    <tr>\n",
              "      <th>Английский язык</th>\n",
              "      <td>48</td>\n",
              "    </tr>\n",
              "    <tr>\n",
              "      <th>Linux</th>\n",
              "      <td>47</td>\n",
              "    </tr>\n",
              "    <tr>\n",
              "      <th>Анализ данных</th>\n",
              "      <td>46</td>\n",
              "    </tr>\n",
              "    <tr>\n",
              "      <th>NLP</th>\n",
              "      <td>45</td>\n",
              "    </tr>\n",
              "    <tr>\n",
              "      <th>Моделирование</th>\n",
              "      <td>45</td>\n",
              "    </tr>\n",
              "    <tr>\n",
              "      <th>C++</th>\n",
              "      <td>43</td>\n",
              "    </tr>\n",
              "    <tr>\n",
              "      <th>Big Data</th>\n",
              "      <td>42</td>\n",
              "    </tr>\n",
              "    <tr>\n",
              "      <th>Numpy</th>\n",
              "      <td>41</td>\n",
              "    </tr>\n",
              "    <tr>\n",
              "      <th>Tensorflow</th>\n",
              "      <td>41</td>\n",
              "    </tr>\n",
              "    <tr>\n",
              "      <th>Docker</th>\n",
              "      <td>41</td>\n",
              "    </tr>\n",
              "    <tr>\n",
              "      <th>Математическое моделирование</th>\n",
              "      <td>41</td>\n",
              "    </tr>\n",
              "    <tr>\n",
              "      <th>Статистический анализ</th>\n",
              "      <td>40</td>\n",
              "    </tr>\n",
              "  </tbody>\n",
              "</table>\n",
              "</div>"
            ],
            "text/plain": [
              "                              cnt\n",
              "skill                            \n",
              "Python                        351\n",
              "SQL                           201\n",
              "Machine Learning              141\n",
              "IT                            104\n",
              "ML                             74\n",
              "Git                            70\n",
              "Статистика                     66\n",
              "Data science                   64\n",
              "Математическая статистика      62\n",
              "PyTorch                        61\n",
              "Pandas                         57\n",
              "Data Analysis                  54\n",
              "BI                             53\n",
              "Английский язык                48\n",
              "Linux                          47\n",
              "Анализ данных                  46\n",
              "NLP                            45\n",
              "Моделирование                  45\n",
              "C++                            43\n",
              "Big Data                       42\n",
              "Numpy                          41\n",
              "Tensorflow                     41\n",
              "Docker                         41\n",
              "Математическое моделирование   41\n",
              "Статистический анализ          40"
            ]
          },
          "execution_count": 60,
          "metadata": {},
          "output_type": "execute_result"
        }
      ],
      "source": [
        "# Удалим столбец индекса.\n",
        "table_skillsDS.set_index('skill', inplace=True)\n",
        "\n",
        "# Выведем топ 15 навыков в профессии DSt,\n",
        "# и как часто они встречаются.\n",
        "table_skillsDS = table_skillsDS.sort_values(by='cnt', ascending=False)\n",
        "table_skillsDS.head(25)"
      ]
    },
    {
      "attachments": {},
      "cell_type": "markdown",
      "id": "3a232fec",
      "metadata": {},
      "source": [
        "В таблице выше, есть позиции схожие по смыслу, объединим их:\n",
        "- Machine Learning, ML и Машинное обучение, Deep Learning;\n",
        "- Статистика, Математическая статистика;\n",
        "- Анализ данных, Математический анализ, Data Analysis, Статистический анализ;\n",
        "- Аналитическое мышление, Аналитические исследования;"
      ]
    },
    {
      "cell_type": "code",
      "execution_count": 61,
      "id": "60887fd2",
      "metadata": {},
      "outputs": [],
      "source": [
        "# Функция объединения навыков\n",
        "def sum_skills(lst):\n",
        "    \"\"\"Суммирует навыки между собой, оставив один и удалив лишние.\n",
        "\n",
        "    Args:\n",
        "        lst (_type_): _description_\n",
        "\n",
        "    Returns:\n",
        "        _type_: _description_\n",
        "    \"\"\"\n",
        "    result = table_skillsDS.at[lst[0], 'cnt']\n",
        "    for skill in lst[1:]:\n",
        "        result += table_skillsDS.at[skill, 'cnt']\n",
        "        table_skillsDS.drop(skill, axis=0, inplace=True)\n",
        "    return result\n"
      ]
    },
    {
      "cell_type": "code",
      "execution_count": 62,
      "id": "0b6fcabf",
      "metadata": {},
      "outputs": [],
      "source": [
        "# Суммируем ячейки\n",
        "ml = ['Машинное обучение','Machine Learning','ML','Deep Learning']\n",
        "st = ['Статистика', 'Математическая статистика'] \n",
        "analysis = ['Анализ данных', 'Математический анализ',\n",
        "      'Data Analysis', 'Статистический анализ']\n",
        "analytics = ['Аналитическое мышление', 'Аналитические исследования']"
      ]
    },
    {
      "cell_type": "code",
      "execution_count": 63,
      "id": "77a1ac58",
      "metadata": {},
      "outputs": [],
      "source": [
        "# Суммируем ячейки и удаляем лишнее.\n",
        "table_skillsDS.at['Машинное обучение','cnt'] = sum_skills(ml)\n",
        "table_skillsDS.at['Статистика','cnt'] = sum_skills(st)\n",
        "table_skillsDS.at['Анализ данных','cnt'] = sum_skills(analysis)\n",
        "table_skillsDS.at['Аналитическое мышление','cnt'] = sum_skills(analytics)\n",
        "\n",
        "# Приеобразуем данные в \"int32\"\n",
        "table_skillsDS['cnt'] = table_skillsDS['cnt'].astype('int32')"
      ]
    },
    {
      "cell_type": "code",
      "execution_count": 64,
      "id": "0538771e",
      "metadata": {},
      "outputs": [
        {
          "data": {
            "text/html": [
              "<div>\n",
              "<style scoped>\n",
              "    .dataframe tbody tr th:only-of-type {\n",
              "        vertical-align: middle;\n",
              "    }\n",
              "\n",
              "    .dataframe tbody tr th {\n",
              "        vertical-align: top;\n",
              "    }\n",
              "\n",
              "    .dataframe thead th {\n",
              "        text-align: right;\n",
              "    }\n",
              "</style>\n",
              "<table border=\"1\" class=\"dataframe\">\n",
              "  <thead>\n",
              "    <tr style=\"text-align: right;\">\n",
              "      <th></th>\n",
              "      <th>cnt</th>\n",
              "    </tr>\n",
              "    <tr>\n",
              "      <th>skill</th>\n",
              "      <th></th>\n",
              "    </tr>\n",
              "  </thead>\n",
              "  <tbody>\n",
              "    <tr>\n",
              "      <th>Python</th>\n",
              "      <td>351</td>\n",
              "    </tr>\n",
              "    <tr>\n",
              "      <th>Машинное обучение</th>\n",
              "      <td>271</td>\n",
              "    </tr>\n",
              "    <tr>\n",
              "      <th>SQL</th>\n",
              "      <td>201</td>\n",
              "    </tr>\n",
              "    <tr>\n",
              "      <th>Анализ данных</th>\n",
              "      <td>169</td>\n",
              "    </tr>\n",
              "    <tr>\n",
              "      <th>Статистика</th>\n",
              "      <td>128</td>\n",
              "    </tr>\n",
              "    <tr>\n",
              "      <th>IT</th>\n",
              "      <td>104</td>\n",
              "    </tr>\n",
              "    <tr>\n",
              "      <th>Git</th>\n",
              "      <td>70</td>\n",
              "    </tr>\n",
              "    <tr>\n",
              "      <th>Data science</th>\n",
              "      <td>64</td>\n",
              "    </tr>\n",
              "    <tr>\n",
              "      <th>PyTorch</th>\n",
              "      <td>61</td>\n",
              "    </tr>\n",
              "    <tr>\n",
              "      <th>Pandas</th>\n",
              "      <td>57</td>\n",
              "    </tr>\n",
              "    <tr>\n",
              "      <th>BI</th>\n",
              "      <td>53</td>\n",
              "    </tr>\n",
              "    <tr>\n",
              "      <th>Английский язык</th>\n",
              "      <td>48</td>\n",
              "    </tr>\n",
              "    <tr>\n",
              "      <th>Linux</th>\n",
              "      <td>47</td>\n",
              "    </tr>\n",
              "    <tr>\n",
              "      <th>NLP</th>\n",
              "      <td>45</td>\n",
              "    </tr>\n",
              "    <tr>\n",
              "      <th>Моделирование</th>\n",
              "      <td>45</td>\n",
              "    </tr>\n",
              "  </tbody>\n",
              "</table>\n",
              "</div>"
            ],
            "text/plain": [
              "                   cnt\n",
              "skill                 \n",
              "Python             351\n",
              "Машинное обучение  271\n",
              "SQL                201\n",
              "Анализ данных      169\n",
              "Статистика         128\n",
              "IT                 104\n",
              "Git                 70\n",
              "Data science        64\n",
              "PyTorch             61\n",
              "Pandas              57\n",
              "BI                  53\n",
              "Английский язык     48\n",
              "Linux               47\n",
              "NLP                 45\n",
              "Моделирование       45"
            ]
          },
          "execution_count": 64,
          "metadata": {},
          "output_type": "execute_result"
        }
      ],
      "source": [
        "# Результат \n",
        "table_skillsDS = table_skillsDS.sort_values(by='cnt',ascending=False)\n",
        "table_skillsDS.head(15)"
      ]
    },
    {
      "cell_type": "code",
      "execution_count": 65,
      "id": "3fcca297",
      "metadata": {},
      "outputs": [],
      "source": [
        "# Импортируе библиотеки для визуализации.\n",
        "import plotly\n",
        "import plotly.express as px"
      ]
    },
    {
      "cell_type": "code",
      "execution_count": 66,
      "id": "d268bf5d",
      "metadata": {},
      "outputs": [
        {
          "data": {
            "application/vnd.plotly.v1+json": {
              "config": {
                "plotlyServerURL": "https://plot.ly"
              },
              "data": [
                {
                  "alignmentgroup": "True",
                  "hovertemplate": "skill=%{x}<br>cnt=%{y}<br>text=%{text}<extra></extra>",
                  "legendgroup": "Python",
                  "marker": {
                    "color": "#636efa",
                    "pattern": {
                      "shape": ""
                    }
                  },
                  "name": "Python",
                  "offsetgroup": "Python",
                  "orientation": "v",
                  "showlegend": true,
                  "text": [
                    73.1
                  ],
                  "textposition": "auto",
                  "type": "bar",
                  "x": [
                    "Python"
                  ],
                  "xaxis": "x",
                  "y": [
                    351
                  ],
                  "yaxis": "y"
                },
                {
                  "alignmentgroup": "True",
                  "hovertemplate": "skill=%{x}<br>cnt=%{y}<br>text=%{text}<extra></extra>",
                  "legendgroup": "Машинное обучение",
                  "marker": {
                    "color": "#EF553B",
                    "pattern": {
                      "shape": ""
                    }
                  },
                  "name": "Машинное обучение",
                  "offsetgroup": "Машинное обучение",
                  "orientation": "v",
                  "showlegend": true,
                  "text": [
                    56.5
                  ],
                  "textposition": "auto",
                  "type": "bar",
                  "x": [
                    "Машинное обучение"
                  ],
                  "xaxis": "x",
                  "y": [
                    271
                  ],
                  "yaxis": "y"
                },
                {
                  "alignmentgroup": "True",
                  "hovertemplate": "skill=%{x}<br>cnt=%{y}<br>text=%{text}<extra></extra>",
                  "legendgroup": "SQL",
                  "marker": {
                    "color": "#00cc96",
                    "pattern": {
                      "shape": ""
                    }
                  },
                  "name": "SQL",
                  "offsetgroup": "SQL",
                  "orientation": "v",
                  "showlegend": true,
                  "text": [
                    41.9
                  ],
                  "textposition": "auto",
                  "type": "bar",
                  "x": [
                    "SQL"
                  ],
                  "xaxis": "x",
                  "y": [
                    201
                  ],
                  "yaxis": "y"
                },
                {
                  "alignmentgroup": "True",
                  "hovertemplate": "skill=%{x}<br>cnt=%{y}<br>text=%{text}<extra></extra>",
                  "legendgroup": "Анализ данных",
                  "marker": {
                    "color": "#ab63fa",
                    "pattern": {
                      "shape": ""
                    }
                  },
                  "name": "Анализ данных",
                  "offsetgroup": "Анализ данных",
                  "orientation": "v",
                  "showlegend": true,
                  "text": [
                    35.2
                  ],
                  "textposition": "auto",
                  "type": "bar",
                  "x": [
                    "Анализ данных"
                  ],
                  "xaxis": "x",
                  "y": [
                    169
                  ],
                  "yaxis": "y"
                },
                {
                  "alignmentgroup": "True",
                  "hovertemplate": "skill=%{x}<br>cnt=%{y}<br>text=%{text}<extra></extra>",
                  "legendgroup": "Статистика",
                  "marker": {
                    "color": "#FFA15A",
                    "pattern": {
                      "shape": ""
                    }
                  },
                  "name": "Статистика",
                  "offsetgroup": "Статистика",
                  "orientation": "v",
                  "showlegend": true,
                  "text": [
                    26.7
                  ],
                  "textposition": "auto",
                  "type": "bar",
                  "x": [
                    "Статистика"
                  ],
                  "xaxis": "x",
                  "y": [
                    128
                  ],
                  "yaxis": "y"
                },
                {
                  "alignmentgroup": "True",
                  "hovertemplate": "skill=%{x}<br>cnt=%{y}<br>text=%{text}<extra></extra>",
                  "legendgroup": "IT",
                  "marker": {
                    "color": "#19d3f3",
                    "pattern": {
                      "shape": ""
                    }
                  },
                  "name": "IT",
                  "offsetgroup": "IT",
                  "orientation": "v",
                  "showlegend": true,
                  "text": [
                    21.7
                  ],
                  "textposition": "auto",
                  "type": "bar",
                  "x": [
                    "IT"
                  ],
                  "xaxis": "x",
                  "y": [
                    104
                  ],
                  "yaxis": "y"
                },
                {
                  "alignmentgroup": "True",
                  "hovertemplate": "skill=%{x}<br>cnt=%{y}<br>text=%{text}<extra></extra>",
                  "legendgroup": "Git",
                  "marker": {
                    "color": "#FF6692",
                    "pattern": {
                      "shape": ""
                    }
                  },
                  "name": "Git",
                  "offsetgroup": "Git",
                  "orientation": "v",
                  "showlegend": true,
                  "text": [
                    14.6
                  ],
                  "textposition": "auto",
                  "type": "bar",
                  "x": [
                    "Git"
                  ],
                  "xaxis": "x",
                  "y": [
                    70
                  ],
                  "yaxis": "y"
                },
                {
                  "alignmentgroup": "True",
                  "hovertemplate": "skill=%{x}<br>cnt=%{y}<br>text=%{text}<extra></extra>",
                  "legendgroup": "Data science",
                  "marker": {
                    "color": "#B6E880",
                    "pattern": {
                      "shape": ""
                    }
                  },
                  "name": "Data science",
                  "offsetgroup": "Data science",
                  "orientation": "v",
                  "showlegend": true,
                  "text": [
                    13.3
                  ],
                  "textposition": "auto",
                  "type": "bar",
                  "x": [
                    "Data science"
                  ],
                  "xaxis": "x",
                  "y": [
                    64
                  ],
                  "yaxis": "y"
                },
                {
                  "alignmentgroup": "True",
                  "hovertemplate": "skill=%{x}<br>cnt=%{y}<br>text=%{text}<extra></extra>",
                  "legendgroup": "PyTorch",
                  "marker": {
                    "color": "#FF97FF",
                    "pattern": {
                      "shape": ""
                    }
                  },
                  "name": "PyTorch",
                  "offsetgroup": "PyTorch",
                  "orientation": "v",
                  "showlegend": true,
                  "text": [
                    12.7
                  ],
                  "textposition": "auto",
                  "type": "bar",
                  "x": [
                    "PyTorch"
                  ],
                  "xaxis": "x",
                  "y": [
                    61
                  ],
                  "yaxis": "y"
                },
                {
                  "alignmentgroup": "True",
                  "hovertemplate": "skill=%{x}<br>cnt=%{y}<br>text=%{text}<extra></extra>",
                  "legendgroup": "Pandas",
                  "marker": {
                    "color": "#FECB52",
                    "pattern": {
                      "shape": ""
                    }
                  },
                  "name": "Pandas",
                  "offsetgroup": "Pandas",
                  "orientation": "v",
                  "showlegend": true,
                  "text": [
                    11.9
                  ],
                  "textposition": "auto",
                  "type": "bar",
                  "x": [
                    "Pandas"
                  ],
                  "xaxis": "x",
                  "y": [
                    57
                  ],
                  "yaxis": "y"
                }
              ],
              "layout": {
                "barmode": "relative",
                "height": 500,
                "legend": {
                  "title": {
                    "text": "skill"
                  },
                  "tracegroupgap": 0
                },
                "template": {
                  "data": {
                    "bar": [
                      {
                        "error_x": {
                          "color": "#2a3f5f"
                        },
                        "error_y": {
                          "color": "#2a3f5f"
                        },
                        "marker": {
                          "line": {
                            "color": "#E5ECF6",
                            "width": 0.5
                          },
                          "pattern": {
                            "fillmode": "overlay",
                            "size": 10,
                            "solidity": 0.2
                          }
                        },
                        "type": "bar"
                      }
                    ],
                    "barpolar": [
                      {
                        "marker": {
                          "line": {
                            "color": "#E5ECF6",
                            "width": 0.5
                          },
                          "pattern": {
                            "fillmode": "overlay",
                            "size": 10,
                            "solidity": 0.2
                          }
                        },
                        "type": "barpolar"
                      }
                    ],
                    "carpet": [
                      {
                        "aaxis": {
                          "endlinecolor": "#2a3f5f",
                          "gridcolor": "white",
                          "linecolor": "white",
                          "minorgridcolor": "white",
                          "startlinecolor": "#2a3f5f"
                        },
                        "baxis": {
                          "endlinecolor": "#2a3f5f",
                          "gridcolor": "white",
                          "linecolor": "white",
                          "minorgridcolor": "white",
                          "startlinecolor": "#2a3f5f"
                        },
                        "type": "carpet"
                      }
                    ],
                    "choropleth": [
                      {
                        "colorbar": {
                          "outlinewidth": 0,
                          "ticks": ""
                        },
                        "type": "choropleth"
                      }
                    ],
                    "contour": [
                      {
                        "colorbar": {
                          "outlinewidth": 0,
                          "ticks": ""
                        },
                        "colorscale": [
                          [
                            0,
                            "#0d0887"
                          ],
                          [
                            0.1111111111111111,
                            "#46039f"
                          ],
                          [
                            0.2222222222222222,
                            "#7201a8"
                          ],
                          [
                            0.3333333333333333,
                            "#9c179e"
                          ],
                          [
                            0.4444444444444444,
                            "#bd3786"
                          ],
                          [
                            0.5555555555555556,
                            "#d8576b"
                          ],
                          [
                            0.6666666666666666,
                            "#ed7953"
                          ],
                          [
                            0.7777777777777778,
                            "#fb9f3a"
                          ],
                          [
                            0.8888888888888888,
                            "#fdca26"
                          ],
                          [
                            1,
                            "#f0f921"
                          ]
                        ],
                        "type": "contour"
                      }
                    ],
                    "contourcarpet": [
                      {
                        "colorbar": {
                          "outlinewidth": 0,
                          "ticks": ""
                        },
                        "type": "contourcarpet"
                      }
                    ],
                    "heatmap": [
                      {
                        "colorbar": {
                          "outlinewidth": 0,
                          "ticks": ""
                        },
                        "colorscale": [
                          [
                            0,
                            "#0d0887"
                          ],
                          [
                            0.1111111111111111,
                            "#46039f"
                          ],
                          [
                            0.2222222222222222,
                            "#7201a8"
                          ],
                          [
                            0.3333333333333333,
                            "#9c179e"
                          ],
                          [
                            0.4444444444444444,
                            "#bd3786"
                          ],
                          [
                            0.5555555555555556,
                            "#d8576b"
                          ],
                          [
                            0.6666666666666666,
                            "#ed7953"
                          ],
                          [
                            0.7777777777777778,
                            "#fb9f3a"
                          ],
                          [
                            0.8888888888888888,
                            "#fdca26"
                          ],
                          [
                            1,
                            "#f0f921"
                          ]
                        ],
                        "type": "heatmap"
                      }
                    ],
                    "heatmapgl": [
                      {
                        "colorbar": {
                          "outlinewidth": 0,
                          "ticks": ""
                        },
                        "colorscale": [
                          [
                            0,
                            "#0d0887"
                          ],
                          [
                            0.1111111111111111,
                            "#46039f"
                          ],
                          [
                            0.2222222222222222,
                            "#7201a8"
                          ],
                          [
                            0.3333333333333333,
                            "#9c179e"
                          ],
                          [
                            0.4444444444444444,
                            "#bd3786"
                          ],
                          [
                            0.5555555555555556,
                            "#d8576b"
                          ],
                          [
                            0.6666666666666666,
                            "#ed7953"
                          ],
                          [
                            0.7777777777777778,
                            "#fb9f3a"
                          ],
                          [
                            0.8888888888888888,
                            "#fdca26"
                          ],
                          [
                            1,
                            "#f0f921"
                          ]
                        ],
                        "type": "heatmapgl"
                      }
                    ],
                    "histogram": [
                      {
                        "marker": {
                          "pattern": {
                            "fillmode": "overlay",
                            "size": 10,
                            "solidity": 0.2
                          }
                        },
                        "type": "histogram"
                      }
                    ],
                    "histogram2d": [
                      {
                        "colorbar": {
                          "outlinewidth": 0,
                          "ticks": ""
                        },
                        "colorscale": [
                          [
                            0,
                            "#0d0887"
                          ],
                          [
                            0.1111111111111111,
                            "#46039f"
                          ],
                          [
                            0.2222222222222222,
                            "#7201a8"
                          ],
                          [
                            0.3333333333333333,
                            "#9c179e"
                          ],
                          [
                            0.4444444444444444,
                            "#bd3786"
                          ],
                          [
                            0.5555555555555556,
                            "#d8576b"
                          ],
                          [
                            0.6666666666666666,
                            "#ed7953"
                          ],
                          [
                            0.7777777777777778,
                            "#fb9f3a"
                          ],
                          [
                            0.8888888888888888,
                            "#fdca26"
                          ],
                          [
                            1,
                            "#f0f921"
                          ]
                        ],
                        "type": "histogram2d"
                      }
                    ],
                    "histogram2dcontour": [
                      {
                        "colorbar": {
                          "outlinewidth": 0,
                          "ticks": ""
                        },
                        "colorscale": [
                          [
                            0,
                            "#0d0887"
                          ],
                          [
                            0.1111111111111111,
                            "#46039f"
                          ],
                          [
                            0.2222222222222222,
                            "#7201a8"
                          ],
                          [
                            0.3333333333333333,
                            "#9c179e"
                          ],
                          [
                            0.4444444444444444,
                            "#bd3786"
                          ],
                          [
                            0.5555555555555556,
                            "#d8576b"
                          ],
                          [
                            0.6666666666666666,
                            "#ed7953"
                          ],
                          [
                            0.7777777777777778,
                            "#fb9f3a"
                          ],
                          [
                            0.8888888888888888,
                            "#fdca26"
                          ],
                          [
                            1,
                            "#f0f921"
                          ]
                        ],
                        "type": "histogram2dcontour"
                      }
                    ],
                    "mesh3d": [
                      {
                        "colorbar": {
                          "outlinewidth": 0,
                          "ticks": ""
                        },
                        "type": "mesh3d"
                      }
                    ],
                    "parcoords": [
                      {
                        "line": {
                          "colorbar": {
                            "outlinewidth": 0,
                            "ticks": ""
                          }
                        },
                        "type": "parcoords"
                      }
                    ],
                    "pie": [
                      {
                        "automargin": true,
                        "type": "pie"
                      }
                    ],
                    "scatter": [
                      {
                        "fillpattern": {
                          "fillmode": "overlay",
                          "size": 10,
                          "solidity": 0.2
                        },
                        "type": "scatter"
                      }
                    ],
                    "scatter3d": [
                      {
                        "line": {
                          "colorbar": {
                            "outlinewidth": 0,
                            "ticks": ""
                          }
                        },
                        "marker": {
                          "colorbar": {
                            "outlinewidth": 0,
                            "ticks": ""
                          }
                        },
                        "type": "scatter3d"
                      }
                    ],
                    "scattercarpet": [
                      {
                        "marker": {
                          "colorbar": {
                            "outlinewidth": 0,
                            "ticks": ""
                          }
                        },
                        "type": "scattercarpet"
                      }
                    ],
                    "scattergeo": [
                      {
                        "marker": {
                          "colorbar": {
                            "outlinewidth": 0,
                            "ticks": ""
                          }
                        },
                        "type": "scattergeo"
                      }
                    ],
                    "scattergl": [
                      {
                        "marker": {
                          "colorbar": {
                            "outlinewidth": 0,
                            "ticks": ""
                          }
                        },
                        "type": "scattergl"
                      }
                    ],
                    "scattermapbox": [
                      {
                        "marker": {
                          "colorbar": {
                            "outlinewidth": 0,
                            "ticks": ""
                          }
                        },
                        "type": "scattermapbox"
                      }
                    ],
                    "scatterpolar": [
                      {
                        "marker": {
                          "colorbar": {
                            "outlinewidth": 0,
                            "ticks": ""
                          }
                        },
                        "type": "scatterpolar"
                      }
                    ],
                    "scatterpolargl": [
                      {
                        "marker": {
                          "colorbar": {
                            "outlinewidth": 0,
                            "ticks": ""
                          }
                        },
                        "type": "scatterpolargl"
                      }
                    ],
                    "scatterternary": [
                      {
                        "marker": {
                          "colorbar": {
                            "outlinewidth": 0,
                            "ticks": ""
                          }
                        },
                        "type": "scatterternary"
                      }
                    ],
                    "surface": [
                      {
                        "colorbar": {
                          "outlinewidth": 0,
                          "ticks": ""
                        },
                        "colorscale": [
                          [
                            0,
                            "#0d0887"
                          ],
                          [
                            0.1111111111111111,
                            "#46039f"
                          ],
                          [
                            0.2222222222222222,
                            "#7201a8"
                          ],
                          [
                            0.3333333333333333,
                            "#9c179e"
                          ],
                          [
                            0.4444444444444444,
                            "#bd3786"
                          ],
                          [
                            0.5555555555555556,
                            "#d8576b"
                          ],
                          [
                            0.6666666666666666,
                            "#ed7953"
                          ],
                          [
                            0.7777777777777778,
                            "#fb9f3a"
                          ],
                          [
                            0.8888888888888888,
                            "#fdca26"
                          ],
                          [
                            1,
                            "#f0f921"
                          ]
                        ],
                        "type": "surface"
                      }
                    ],
                    "table": [
                      {
                        "cells": {
                          "fill": {
                            "color": "#EBF0F8"
                          },
                          "line": {
                            "color": "white"
                          }
                        },
                        "header": {
                          "fill": {
                            "color": "#C8D4E3"
                          },
                          "line": {
                            "color": "white"
                          }
                        },
                        "type": "table"
                      }
                    ]
                  },
                  "layout": {
                    "annotationdefaults": {
                      "arrowcolor": "#2a3f5f",
                      "arrowhead": 0,
                      "arrowwidth": 1
                    },
                    "autotypenumbers": "strict",
                    "coloraxis": {
                      "colorbar": {
                        "outlinewidth": 0,
                        "ticks": ""
                      }
                    },
                    "colorscale": {
                      "diverging": [
                        [
                          0,
                          "#8e0152"
                        ],
                        [
                          0.1,
                          "#c51b7d"
                        ],
                        [
                          0.2,
                          "#de77ae"
                        ],
                        [
                          0.3,
                          "#f1b6da"
                        ],
                        [
                          0.4,
                          "#fde0ef"
                        ],
                        [
                          0.5,
                          "#f7f7f7"
                        ],
                        [
                          0.6,
                          "#e6f5d0"
                        ],
                        [
                          0.7,
                          "#b8e186"
                        ],
                        [
                          0.8,
                          "#7fbc41"
                        ],
                        [
                          0.9,
                          "#4d9221"
                        ],
                        [
                          1,
                          "#276419"
                        ]
                      ],
                      "sequential": [
                        [
                          0,
                          "#0d0887"
                        ],
                        [
                          0.1111111111111111,
                          "#46039f"
                        ],
                        [
                          0.2222222222222222,
                          "#7201a8"
                        ],
                        [
                          0.3333333333333333,
                          "#9c179e"
                        ],
                        [
                          0.4444444444444444,
                          "#bd3786"
                        ],
                        [
                          0.5555555555555556,
                          "#d8576b"
                        ],
                        [
                          0.6666666666666666,
                          "#ed7953"
                        ],
                        [
                          0.7777777777777778,
                          "#fb9f3a"
                        ],
                        [
                          0.8888888888888888,
                          "#fdca26"
                        ],
                        [
                          1,
                          "#f0f921"
                        ]
                      ],
                      "sequentialminus": [
                        [
                          0,
                          "#0d0887"
                        ],
                        [
                          0.1111111111111111,
                          "#46039f"
                        ],
                        [
                          0.2222222222222222,
                          "#7201a8"
                        ],
                        [
                          0.3333333333333333,
                          "#9c179e"
                        ],
                        [
                          0.4444444444444444,
                          "#bd3786"
                        ],
                        [
                          0.5555555555555556,
                          "#d8576b"
                        ],
                        [
                          0.6666666666666666,
                          "#ed7953"
                        ],
                        [
                          0.7777777777777778,
                          "#fb9f3a"
                        ],
                        [
                          0.8888888888888888,
                          "#fdca26"
                        ],
                        [
                          1,
                          "#f0f921"
                        ]
                      ]
                    },
                    "colorway": [
                      "#636efa",
                      "#EF553B",
                      "#00cc96",
                      "#ab63fa",
                      "#FFA15A",
                      "#19d3f3",
                      "#FF6692",
                      "#B6E880",
                      "#FF97FF",
                      "#FECB52"
                    ],
                    "font": {
                      "color": "#2a3f5f"
                    },
                    "geo": {
                      "bgcolor": "white",
                      "lakecolor": "white",
                      "landcolor": "#E5ECF6",
                      "showlakes": true,
                      "showland": true,
                      "subunitcolor": "white"
                    },
                    "hoverlabel": {
                      "align": "left"
                    },
                    "hovermode": "closest",
                    "mapbox": {
                      "style": "light"
                    },
                    "paper_bgcolor": "white",
                    "plot_bgcolor": "#E5ECF6",
                    "polar": {
                      "angularaxis": {
                        "gridcolor": "white",
                        "linecolor": "white",
                        "ticks": ""
                      },
                      "bgcolor": "#E5ECF6",
                      "radialaxis": {
                        "gridcolor": "white",
                        "linecolor": "white",
                        "ticks": ""
                      }
                    },
                    "scene": {
                      "xaxis": {
                        "backgroundcolor": "#E5ECF6",
                        "gridcolor": "white",
                        "gridwidth": 2,
                        "linecolor": "white",
                        "showbackground": true,
                        "ticks": "",
                        "zerolinecolor": "white"
                      },
                      "yaxis": {
                        "backgroundcolor": "#E5ECF6",
                        "gridcolor": "white",
                        "gridwidth": 2,
                        "linecolor": "white",
                        "showbackground": true,
                        "ticks": "",
                        "zerolinecolor": "white"
                      },
                      "zaxis": {
                        "backgroundcolor": "#E5ECF6",
                        "gridcolor": "white",
                        "gridwidth": 2,
                        "linecolor": "white",
                        "showbackground": true,
                        "ticks": "",
                        "zerolinecolor": "white"
                      }
                    },
                    "shapedefaults": {
                      "line": {
                        "color": "#2a3f5f"
                      }
                    },
                    "ternary": {
                      "aaxis": {
                        "gridcolor": "white",
                        "linecolor": "white",
                        "ticks": ""
                      },
                      "baxis": {
                        "gridcolor": "white",
                        "linecolor": "white",
                        "ticks": ""
                      },
                      "bgcolor": "#E5ECF6",
                      "caxis": {
                        "gridcolor": "white",
                        "linecolor": "white",
                        "ticks": ""
                      }
                    },
                    "title": {
                      "x": 0.05
                    },
                    "xaxis": {
                      "automargin": true,
                      "gridcolor": "white",
                      "linecolor": "white",
                      "ticks": "",
                      "title": {
                        "standoff": 15
                      },
                      "zerolinecolor": "white",
                      "zerolinewidth": 2
                    },
                    "yaxis": {
                      "automargin": true,
                      "gridcolor": "white",
                      "linecolor": "white",
                      "ticks": "",
                      "title": {
                        "standoff": 15
                      },
                      "zerolinecolor": "white",
                      "zerolinewidth": 2
                    }
                  }
                },
                "title": {
                  "text": "Top 10 skills for Data Scientist in percentage(%)."
                },
                "width": 1000,
                "xaxis": {
                  "anchor": "y",
                  "categoryarray": [
                    "Python",
                    "Машинное обучение",
                    "SQL",
                    "Анализ данных",
                    "Статистика",
                    "IT",
                    "Git",
                    "Data science",
                    "PyTorch",
                    "Pandas"
                  ],
                  "categoryorder": "array",
                  "domain": [
                    0,
                    1
                  ],
                  "title": {
                    "text": "skill"
                  }
                },
                "yaxis": {
                  "anchor": "x",
                  "domain": [
                    0,
                    1
                  ],
                  "title": {
                    "text": "cnt"
                  }
                }
              }
            }
          },
          "metadata": {},
          "output_type": "display_data"
        }
      ],
      "source": [
        "\n",
        "df = table_skillsDS.copy().head(10)\n",
        "\n",
        "# Построим график.\n",
        "# Отобразим на графике Топ-10 навыков и их долю в % из общего числа\n",
        "# профессий \"ds_vacancies\".\n",
        "fig = px.bar(\n",
        "    data_frame=df, #датафрейм\n",
        "    x=df.index, #ось x\n",
        "    y=df[\"cnt\"], #ось y\n",
        "    color= df.index, #расцветка в зависимости от навыка\n",
        "    text = round(df[\"cnt\"]/ds_vacancies*100,1), #текст на столбцах\n",
        "    orientation='v', #ориентация графика\n",
        "    height=500, #высота\n",
        "    width=1000, #ширина\n",
        "    title='Top 10 skills for Data Scientist in percentage(%).' #заголовок\n",
        "    \n",
        ")\n",
        "\n",
        "#отображаем его\n",
        "fig.show()"
      ]
    },
    {
      "attachments": {},
      "cell_type": "markdown",
      "id": "c8b0032f",
      "metadata": {},
      "source": [
        "## Итоги дополнительного исследования:"
      ]
    },
    {
      "cell_type": "code",
      "execution_count": 67,
      "id": "c8e0730f",
      "metadata": {},
      "outputs": [
        {
          "name": "stdout",
          "output_type": "stream",
          "text": [
            "\n",
            "    1. К основным навыкам профессии DS можем отнести не только \"Python\" и\n",
            "    \"SQL\", а также:\n",
            "    - \"Машинное обучение\";\n",
            "    - \"Анализ данных\";\n",
            "    - \"Статистика\";\n",
            "    - \"Git\", \"Pandas\", \"NLP\" и другие.\n",
            "   \n",
            "    2. На построенном графике видно как часто встречается навык,в профессии\n",
            "    датасаентиста в процентном соотношении(%) к общиму числу вакансий(480).\n",
            "    Пример: \"Статистика\" в целом важна в специальности DS имеет 26.7%.\n",
            "   \n",
            "    3. Это лишь часть исследований, которые были разобраны в данном проекте. \n",
            "    В качестве ключевых направление для сайта HeadHunter могу предложить,\n",
            "    для удобства пользованием сайтом как для соискателей так и работодателей:\n",
            "        - провести исследования и определить группы профессий;\n",
            "        - сгрупировать навыки для различных профессий, т.к. сказать\n",
            "        стандартизировать их при заполнении; Это упростит заполнения,\n",
            "        работодателями необходимых ячеек, а соискателям даст возможность\n",
            "        понимание,что от них хотят;\n",
            "        - добавить для соискателей возможные мини тесты для проверки их\n",
            "        навыков; это даст возможность проверить себя, а работодателям\n",
            "        с экономить время при поиске кандидатов на должность и другое.\n",
            "    \n"
          ]
        }
      ],
      "source": [
        "print('''\n",
        "    1. К основным навыкам профессии DS можем отнести не только \"Python\" и\n",
        "    \"SQL\", а также:\n",
        "    - \"Машинное обучение\";\n",
        "    - \"Анализ данных\";\n",
        "    - \"Статистика\";\n",
        "    - \"Git\", \"Pandas\", \"NLP\" и другие.\n",
        "   \n",
        "    2. На построенном графике видно как часто встречается навык,в профессии\n",
        "    датасаентиста в процентном соотношении(%) к общиму числу вакансий(480).\n",
        "    Пример: \"Статистика\" в целом важна в специальности DS имеет 26.7%.\n",
        "   \n",
        "    3. Это лишь часть исследований, которые были разобраны в данном проекте. \n",
        "    В качестве ключевых направление для сайта HeadHunter могу предложить,\n",
        "    для удобства пользованием сайтом как для соискателей так и работодателей:\n",
        "        - провести исследования и определить группы профессий;\n",
        "        - сгрупировать навыки для различных профессий, т.к. сказать\n",
        "        стандартизировать их при заполнении; Это упростит заполнения,\n",
        "        работодателями необходимых ячеек, а соискателям даст возможность\n",
        "        понимание,что от них хотят;\n",
        "        - добавить для соискателей возможные мини тесты для проверки их\n",
        "        навыков; это даст возможность проверить себя, а работодателям\n",
        "        с экономить время при поиске кандидатов на должность и другое.\n",
        "    ''')\n",
        "    "
      ]
    }
  ],
  "metadata": {
    "colab": {
      "collapsed_sections": [
        "8d62a9f3-f64e-4fe7-bdac-c4dffa16155e"
      ],
      "provenance": []
    },
    "kernelspec": {
      "display_name": "Python 3 (ipykernel)",
      "language": "python",
      "name": "python3"
    },
    "language_info": {
      "codemirror_mode": {
        "name": "ipython",
        "version": 3
      },
      "file_extension": ".py",
      "mimetype": "text/x-python",
      "name": "python",
      "nbconvert_exporter": "python",
      "pygments_lexer": "ipython3",
      "version": "3.9.10"
    }
  },
  "nbformat": 4,
  "nbformat_minor": 5
}
